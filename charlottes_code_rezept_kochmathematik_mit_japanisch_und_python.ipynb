{
  "nbformat": 4,
  "nbformat_minor": 0,
  "metadata": {
    "colab": {
      "provenance": [],
      "authorship_tag": "ABX9TyMfLcROMa8a3FWfxDPQR/DH",
      "include_colab_link": true
    },
    "kernelspec": {
      "name": "python3",
      "display_name": "Python 3"
    },
    "language_info": {
      "name": "python"
    }
  },
  "cells": [
    {
      "cell_type": "markdown",
      "metadata": {
        "id": "view-in-github",
        "colab_type": "text"
      },
      "source": [
        "<a href=\"https://colab.research.google.com/github/bonviveur1971/bonviveur1971/blob/main/charlottes_code_rezept_kochmathematik_mit_japanisch_und_python.ipynb\" target=\"_parent\"><img src=\"https://colab.research.google.com/assets/colab-badge.svg\" alt=\"Open In Colab\"/></a>"
      ]
    },
    {
      "cell_type": "markdown",
      "source": [
        "# Charlotte's Code Recipes 👩‍🍳 - Mission 001\n",
        "\n",
        "## Mission 001:  Vielfache von 3 und 5 zusammenrühren! 🥣\n",
        "\n",
        "**Aufgabe**\n",
        "\n",
        "Stell dir vor, wir haben einen Topf voller Zahlen, alle kleiner als 10.  In diesem Topf verstecken sich ein paar besondere Zahlen, nämlich die Vielfachen von 3 und die Vielfachen von 5. Das sind: 3, 5, 6 und 9.\n",
        "\n",
        "[Image of Ein Topf gefüllt mit Zahlen von 1 bis 9, wobei 3, 5, 6 und 9 hervorgehoben sind]\n",
        "\n",
        "Wenn wir diese Zahlen aus dem Topf fischen und zusammenzählen, bekommen wir:\n",
        "\n",
        "3 + 5 + 6 + 9 = 23\n",
        "\n",
        "Jetzt wird es spannender! Was passiert, wenn wir einen **viel größeren Topf** nehmen, gefüllt mit Zahlen **kleiner als 1000**?  Was ist die Summe **aller Zahlen unter 1000**, die **entweder** ein Vielfaches von 3 **oder** ein Vielfaches von 5 sind?\n",
        "\n",
        "**Hinweis-Zutaten 📝**\n",
        "\n",
        "*   **Zutaten prüfen:** Schau dir jede Zahl einzeln an, beginnend bei 1, und frag dich: Ist diese Zahl ein Vielfaches von 3 oder 5?\n",
        "*   **Vielfaches von 3?**  Um das herauszufinden, kannst du die Zahl durch 3 teilen. Wenn **kein Rest** übrig bleibt (Rest = 0), dann ist es ein Vielfaches!\n",
        "*   **Vielfaches von 5?**  Das gleiche Spiel! Teile die Zahl durch 5.  **Kein Rest?** Dann ist es ein Vielfaches von 5!\n",
        "*   **Doppelt hält besser, aber nicht beim Zählen!**  Manche Zahlen sind Vielfache von **beiden**, 3 und 5 (z.B. 15).  Achte darauf, diese Zahlen **nur einmal** in deiner Summe zu berücksichtigen!\n",
        "\n",
        "**Denkweise - Rezept für die Lösung 🧠**\n",
        "\n",
        "1.  **Zahlen durchgehen:**  Starte bei der Zahl 1 und arbeite dich bis 999 vor. Zahl für Zahl.\n",
        "2.  **Test für jede Zahl:** Nimm jede Zahl und prüfe: Ist sie durch 3 teilbar **oder** durch 5 teilbar?\n",
        "3.  **In den Topf werfen (addieren):** Wenn die Zahl durch 3 **oder** 5 teilbar ist, dann **addiere** sie zu deiner Zwischensumme (am Anfang ist die Summe 0).\n",
        "4.  **Fertig!** Wenn du alle Zahlen bis 999 geprüft und die passenden addiert hast, dann hast du deine **Antwort**!\n",
        "\n",
        "**Python Lösung (Beispiel) 🐍**"
      ],
      "metadata": {
        "id": "EbwXQvGMim-W"
      }
    },
    {
      "cell_type": "code",
      "source": [
        "summe = 0  # Hier starten wir mit einer leeren Summe\n",
        "\n",
        "for zahl in range(1, 1000):  # Wir gehen alle Zahlen von 1 bis 999 durch\n",
        "    if zahl % 3 == 0 or zahl % 5 == 0: # Ist die Zahl durch 3 oder 5 teilbar?\n",
        "        summe = summe + zahl # Ja! Dann addieren wir sie zur Summe hinzu\n",
        "\n",
        "print(\"Die Summe der Vielfachen von 3 oder 5 unter 1000 ist:\", summe) # Fertig! Ausgabe der Antwort"
      ],
      "metadata": {
        "colab": {
          "base_uri": "https://localhost:8080/"
        },
        "id": "J6V34UwaiyWN",
        "outputId": "dfa068fb-4762-439d-ff72-3bb514cb087d"
      },
      "execution_count": null,
      "outputs": [
        {
          "output_type": "stream",
          "name": "stdout",
          "text": [
            "Die Summe der Vielfachen von 3 oder 5 unter 1000 ist: 233168\n"
          ]
        }
      ]
    },
    {
      "cell_type": "markdown",
      "source": [
        "**Extra Herausforderung (für Super-Köche!) 🌶️**\n",
        "\n",
        "Kannst du das Rezept (den Code) so ändern, dass es nicht nur für Zahlen unter 1000, sondern für **jede beliebige Zahl** funktioniert?  Frag den Benutzer nach einer Obergrenze und berechne die Summe bis zu dieser Grenze!"
      ],
      "metadata": {
        "id": "o6atFEpnjVlO"
      }
    },
    {
      "cell_type": "code",
      "source": [
        "obergrenze = int(input(\"Bis zu welcher Zahl soll ich die Vielfachen suchen? \")) # Benutzer nach Obergrenze fragen\n",
        "summe = 0\n",
        "\n",
        "for zahl in range(1, obergrenze):\n",
        "    if zahl % 3 == 0 or zahl % 5 == 0:\n",
        "        summe = summe + zahl\n",
        "\n",
        "print(\"Die Summe der Vielfachen von 3 oder 5 unter\", obergrenze, \"ist:\", summe)"
      ],
      "metadata": {
        "id": "CSOiigh_j8ad"
      },
      "execution_count": null,
      "outputs": []
    },
    {
      "cell_type": "markdown",
      "source": [
        "# Charlotte's Code Recipes 👩‍🍳 - Mission 002\n",
        "\n",
        "## Mission 002:  Geheimnisvolle Fibonacci-Suppe! 🍜\n",
        "\n",
        "**Aufgabe**\n",
        "\n",
        "Hast du schon mal von der **Fibonacci-Folge** gehört? Das ist wie eine magische Zahlen-Zutatenliste, bei der jede neue Zutat entsteht, indem man die **zwei vorherigen Zutaten zusammenmischt**!\n",
        "\n",
        "Stell dir vor, unsere ersten beiden Zutaten sind **1 und 2**:\n",
        "\n",
        "1, 2, 3, 5, 8, 13, 21, 34, 55, 89,...\n",
        "\n",
        "[Image of Fibonacci-Folge visualisiert als wachsende Spirale oder Treppe, beginnend mit 1 und 2]\n",
        "\n",
        "Siehst du das Muster?  3 ist 1+2, 5 ist 2+3, 8 ist 3+5 und so weiter – die Zutatenliste wächst und wächst!\n",
        "\n",
        "**Deine Mission, Chefkoch:**\n",
        "\n",
        "Was bekommst du, wenn du **nur die geraden Zahlen** aus dieser Fibonacci-Liste nimmst, die **kleiner als 4 Millionen** sind, und sie **alle zusammenrührst** (addierst)?  Welche geheime Zutat entsteht dann als Summe?\n",
        "\n",
        "**Hinweis-Zutaten 📝**\n",
        "\n",
        "*   **Fibonacci Schritt für Schritt:**  Koch die Fibonacci-Folge Zutat für Zutat, Schritt für Schritt nach. Fang mit 1 und 2 an und misch immer die letzten beiden, um die nächste Zutat zu bekommen.\n",
        "*   **Gerade Zahlen erkennen:**  Wie findest du heraus, ob eine Zutat \"gerade\" ist?  Ganz einfach: Teile sie durch 2. Wenn **kein Rest** bleibt (Rest = 0), dann ist sie gerade!\n",
        "*   **Nicht zu viel in den Topf!**  Achte darauf, dass deine Fibonacci-Zutaten nicht größer als **4 Millionen** werden.  Wenn eine Zutat zu groß wird, hör auf zu kochen!\n",
        "\n",
        "**Denkweise - Rezept für die Fibonacci-Suppe 🧠**\n",
        "\n",
        "1.  **Grundzutaten bereitstellen:**  Leg die ersten zwei Fibonacci-Zutaten bereit: **1 und 2**.  Das ist dein Startkapital.\n",
        "2.  **Nächste Zutat mischen:**  Misch die letzten beiden Zutaten zusammen, um die nächste zu bekommen.  Am Anfang: 1 + 2 = 3.\n",
        "3.  **Ist sie gerade? Testen!:**  Ist die neue Zutat \"gerade\"?  Teste, ob sie durch 2 teilbar ist (ohne Rest). Wenn 3 nicht gerade ist, ignorieren wir sie erstmal für die Summe.\n",
        "4.  **Nächste, bitte!:**  Misch wieder die **letzten beiden** Fibonacci-Zutaten (jetzt 2 und 3) für die nächste: 2 + 3 = 5.\n",
        "5.  **Wieder testen:**  Ist 5 gerade? Nein. Also ignorieren wir auch 5 für die Summe.\n",
        "6.  **Immer weiter kochen!:**  Wiederhol das Mischen und Testen, bis deine Fibonacci-Zutaten **4 Millionen überschreiten**.\n",
        "7.  **Geheime Zutat enthüllen:**  Die Summe **aller geraden Fibonacci-Zutaten**, die du gefunden hast, ist deine **Antwort** – die geheime Zutat deiner Fibonacci-Suppe!\n",
        "\n",
        "**Python Lösung (Beispiel) 🐍**"
      ],
      "metadata": {
        "id": "ECwlNB_hlfHN"
      }
    },
    {
      "cell_type": "code",
      "source": [
        "a, b = 1, 2  # Unsere ersten beiden Fibonacci-Zutaten\n",
        "summe_gerade_fibonacci = 0  # Topf für die Summe der geraden Zutaten\n",
        "\n",
        "while b < 4000000: # Solange die aktuelle Zutat kleiner als 4 Millionen ist ...\n",
        "    if b % 2 == 0:      # ... prüfe, ob sie gerade ist\n",
        "        summe_gerade_fibonacci += b # Ja, sie ist gerade! Also ab in den Topf (zur Summe hinzufügen)\n",
        "\n",
        "    a, b = b, a + b  # Nächste Fibonacci-Zutat \"kochen\": a wird zu b, und b wird zur Summe von altem a und b\n",
        "\n",
        "print(\"Die Summe der geraden Fibonacci-Zahlen unter 4 Millionen ist:\", summe_gerade_fibonacci) # Enthüllung der geheimen Zutat!"
      ],
      "metadata": {
        "colab": {
          "base_uri": "https://localhost:8080/"
        },
        "id": "irb-cfDSlxMt",
        "outputId": "512a5d7c-511b-4681-e64d-b0d193c6597f"
      },
      "execution_count": null,
      "outputs": [
        {
          "output_type": "stream",
          "name": "stdout",
          "text": [
            "Die Summe der geraden Fibonacci-Zahlen unter 4 Millionen ist: 4613732\n"
          ]
        }
      ]
    },
    {
      "cell_type": "markdown",
      "source": [
        "**Extra Herausforderung (für Sterne-Köche!) 🌟**\n",
        "\n",
        "Kannst du das Rezept so anpassen, dass es nicht nur gerade Fibonacci-Zahlen addiert, sondern **alle Fibonacci-Zahlen**, die durch **eine beliebige Zahl teilbar** sind, die der Benutzer vorgibt?  Frag den Benutzer nach dem Teiler und finde die Summe der teilbaren Fibonacci-Zahlen unter 4 Millionen!"
      ],
      "metadata": {
        "id": "AQD8Pfz7mR0d"
      }
    },
    {
      "cell_type": "code",
      "source": [
        "teiler = int(input(\"Durch welche Zahl sollen die Fibonacci-Zahlen teilbar sein? \")) # Benutzer nach Teiler fragen\n",
        "a, b = 1, 2\n",
        "summe_teilbare_fibonacci = 0\n",
        "\n",
        "while b < 4000000:\n",
        "    if b % teiler == 0: # Prüfe, ob die Zahl durch den Teiler teilbar ist\n",
        "        summe_teilbare_fibonacci += b\n",
        "\n",
        "    a, b = b, a + b\n",
        "\n",
        "print(\"Die Summe der Fibonacci-Zahlen unter 4 Millionen, die durch\", teiler, \"teilbar sind, ist:\", summe_teilbare_fibonacci)"
      ],
      "metadata": {
        "id": "VKqemGhkmtsd"
      },
      "execution_count": null,
      "outputs": []
    },
    {
      "cell_type": "markdown",
      "source": [
        "# Charlotte's Code Recipes 👩‍🍳 - Mission 003\n",
        "\n",
        "## Mission 003:  Primfaktor-Schatzsuche! 💎\n",
        "\n",
        "**Aufgabe**\n",
        "\n",
        "Stell dir vor, Zahlen sind wie Schatztruhen, und in manchen Truhen verstecken sich **Primfaktoren** –  ganz besondere, unteilbare Zahlen-Edelsteine!\n",
        "\n",
        "Wir wissen, dass die Schatztruhe \"13195\" diese Primfaktoren enthält: 5 × 7 × 13 × 29.\n",
        "\n",
        "[Image of Eine Schatztruhe, leicht geöffnet, aus der Edelsteine (Zahlen 5, 7, 13, 29) hervorquellen]\n",
        "\n",
        "Jetzt kommt die **größere Herausforderung**:  Wir haben eine riesige Schatztruhe mit der Nummer **600851475143**.  Wenn wir diese Truhe knacken und sie in ihre Primfaktoren zerlegen – **was ist dann der größte Primfaktor-Edelstein, den wir darin finden?**\n",
        "\n",
        "**Hinweis-Zutaten 📝**\n",
        "\n",
        "*   **Primfaktor-Erinnerung:**  Was waren noch mal Primfaktoren? 🤔\n",
        "    *   Eine **Primzahl** ist wie ein unteilbarer Edelstein: Sie lässt sich nur durch 1 und sich selbst teilen (z.B. 2, 3, 5, 7, 11...).\n",
        "    *   **Primfaktorzerlegung** ist wie das Knacken einer Schatztruhe: Wir zerlegen eine Zahl in ein Produkt von Primzahlen (Edelsteinen).\n",
        "*   **Große Schätze, große Mühe!:**  Das Zerlegen von **riesigen Zahlen-Schatztruhen** kann ganz schön knifflig sein! Aber gib nicht auf, Chefkoch!  Mit Geduld und Systematik wirst du den größten Primfaktor finden!  Viel Glück bei der Schatzsuche!\n",
        "\n",
        "**Denkweise - Schatzkarte zur Primfaktorzerlegung 🗺️**\n",
        "\n",
        "1.  **Mit dem Kleinsten starten:**  Beginne deine Schatzsuche mit der kleinsten Primzahl: **2**.  Teste, ob deine Schatztruhe \"600851475143\" durch 2 teilbar ist.\n",
        "2.  **Teilbaren Schatz gefunden!:**  Wenn du eine Primzahl findest, durch die deine Zahl teilbar ist (in unserem Fall nicht bei 2, aber vielleicht später!), dann **teile** deine Schatztruhe (600851475143) durch diese Primzahl.  Diesen Primfaktor-Edelstein hast du schon mal sicher!\n",
        "3.  **Neue Truhe, neue Suche:**  Mit der **neuen, kleineren Zahl** (nach der Teilung) beginnst du wieder von vorne bei Schritt 1. Suche wieder nach der kleinsten Primzahl (beginnend bei 2, oder der letzten Primzahl, die du gefunden hast – ein kleiner Trick für Profi-Schatzsucher!), durch die **diese neue Zahl** teilbar ist.\n",
        "4.  **Wiederholen bis zum Ende der Schatzsuche:** Wiederhole Schritte 2 und 3 immer wieder, bis du keine Primzahl mehr findest, durch die deine **aktuelle Zahl** teilbar ist (außer durch 1 – dann sind wir am Ziel!).\n",
        "5.  **Der größte Edelstein!:**  Die **letzte Zahl**, die in deiner Schatzsuche übrig bleibt, ist der **größte Primfaktor-Edelstein** in deiner ursprünglichen Schatztruhe!  Das ist dein wertvollster Fund!\n",
        "\n",
        "**Python Lösung (Beispiel) 🐍**"
      ],
      "metadata": {
        "id": "2OjhdFo5nSw1"
      }
    },
    {
      "cell_type": "code",
      "source": [
        "def groesster_primfaktor(zahl): # Funktion, die den größten Primfaktor findet\n",
        "    teiler = 2 # Wir starten mit dem kleinsten möglichen Teiler, 2\n",
        "\n",
        "    while teiler * teiler <= zahl: # Solange der Teiler * Teiler kleiner oder gleich der Zahl ist\n",
        "        if zahl % teiler == 0: # Ist die Zahl durch den Teiler teilbar?\n",
        "            zahl //= teiler # Ja! Dann teile die Zahl durch den Teiler (und speichere das Ergebnis in Zahl)\n",
        "        else:\n",
        "            teiler += 1 # Nein? Dann erhöhe den Teiler um 1 und versuche es nochmal\n",
        "    return zahl # Am Ende bleibt der größte Primfaktor übrig, den wir zurückgeben\n",
        "\n",
        "zahl_zum_faktorisieren = 600851475143\n",
        "groesster_faktor = groesster_primfaktor(zahl_zum_faktorisieren) # Funktion aufrufen, um den größten Primfaktor zu finden\n",
        "\n",
        "print(\"Der größte Primfaktor von\", zahl_zum_faktorisieren, \"ist:\", groesster_faktor) # Schatz gefunden! Ausgabe des größten Primfaktors"
      ],
      "metadata": {
        "colab": {
          "base_uri": "https://localhost:8080/"
        },
        "id": "m0PsGWo-nXW1",
        "outputId": "0f0f76f3-55af-49fd-c06c-414e3841f916"
      },
      "execution_count": null,
      "outputs": [
        {
          "output_type": "stream",
          "name": "stdout",
          "text": [
            "Der größte Primfaktor von 600851475143 ist: 6857\n"
          ]
        }
      ]
    },
    {
      "cell_type": "markdown",
      "source": [
        "**Extra Herausforderung (für Meister-Schatzsucher!) 🏆**\n",
        "\n",
        "Kannst du deine Schatzkarte (deinen Code) so erweitern, dass sie nicht nur den **größten** Primfaktor findet, sondern alle Primfaktoren einer Zahl in einer Liste ausgibt?  Eine Liste aller Edelsteine in der Schatztruhe, sozusagen!"
      ],
      "metadata": {
        "id": "ScBMNG9_nj5V"
      }
    },
    {
      "cell_type": "code",
      "source": [
        "def primfaktoren_finden(zahl): # Funktion, die ALLE Primfaktoren findet\n",
        "    primfaktoren = [] # Liste für die gefundenen Primfaktoren (Edelsteine)\n",
        "    teiler = 2\n",
        "\n",
        "    while teiler * teiler <= zahl:\n",
        "        if zahl % teiler == 0:\n",
        "            primfaktoren.append(teiler) # Primfaktor gefunden! Füge ihn der Liste hinzu\n",
        "            zahl //= teiler\n",
        "        else:\n",
        "            teiler += 1\n",
        "\n",
        "    if zahl > 1: # Wenn am Ende noch eine Zahl > 1 übrig bleibt, ist das auch ein Primfaktor (der größte)\n",
        "        primfaktoren.append(zahl) # Füge auch den letzten Primfaktor der Liste hinzu\n",
        "\n",
        "    return primfaktoren # Gib die Liste aller Primfaktoren zurück\n",
        "\n",
        "zahl_zum_faktorisieren = 13195 # Beispielzahl, oder verwende 600851475143 für die Hauptaufgabe\n",
        "alle_faktoren = primfaktoren_finden(zahl_zum_faktorisieren) # Funktion aufrufen, um alle Primfaktoren zu finden\n",
        "\n",
        "print(\"Die Primfaktoren von\", zahl_zum_faktorisieren, \"sind:\", alle_faktoren) # Ausgabe der Liste aller Primfaktoren (alle Edelsteine!)"
      ],
      "metadata": {
        "id": "BmFDC-aSn3fl"
      },
      "execution_count": null,
      "outputs": []
    },
    {
      "cell_type": "markdown",
      "source": [
        "# Charlotte's Code Recipes 👩‍🍳 - Mission 004\n",
        "\n",
        "## Mission 004:  Spiegelbild-Zahlenkuchen backen! 🎂\n",
        "\n",
        "**Aufgabe**\n",
        "\n",
        "Kennst du das? Manche Zahlen sind wie **Zauberspiegel**! Egal ob du sie von vorne nach hinten oder von hinten nach vorne liest – sie sehen **genau gleich** aus!  Solche Zahlen nennen wir **Palindrome** –  wie \"12321\" zum Beispiel.\n",
        "\n",
        "[Image of Zahl 12321, gespiegelt in einem magischen Spiegel, wobei das Spiegelbild identisch ist]\n",
        "\n",
        "Manchmal entstehen Palindrome auch, wenn man zwei Zahlen **miteinander backt** (multipliziert).  Zum Beispiel: 91 × 99 = 9009.  **9009** ist das größte Zahlen-Spiegelbild, das man mit zwei **zweistelligen** Zahlen backen kann.\n",
        "\n",
        "**Deine neue Herausforderung, Meisterbäcker:**\n",
        "\n",
        "Lass uns jetzt einen **noch größeren Kuchen** backen!  Was ist das größte Zahlen-Spiegelbild (**Palindrom**), das du aus dem **Zusammenspiel von zwei dreistelligen Zahlen** zaubern kannst?  Backe das größte Palindrom!\n",
        "\n",
        "**Hinweis-Zutaten 📝**\n",
        "\n",
        "*   **Dreistellige Zutaten:**  Dreistellige Zahlen sind wie große Zutatenpakete – sie reichen von 100 bis 999.\n",
        "*   **Viele Kombinationen, clever backen!:**  Es gibt **super viele** Möglichkeiten, zwei dreistellige Zahlen zu kombinieren!  Alle auszuprobieren wäre ganz schön viel Arbeit.  Sei ein **cleverer Bäcker** und finde einen Trick, um schneller zum Ziel zu kommen!\n",
        "*   **Backreihenfolge egal:**  Ob du 2 × 3 oder 3 × 2 backst, das Ergebnis ist das gleiche!  Du kannst einfach **von 100 × 100 bis 999 × 999** alle Kombinationen durchprobieren –  aber vielleicht gibt es ja einen effizienteren Weg...\n",
        "*   **Palindrom-Prüfung leicht gemacht:**  Schreib dir ein kleines Helferlein, ein **\"Palindrom-Testprogramm\"**, das dir sofort sagt, ob dein gebackener Kuchen (das Ergebnis) ein Spiegelbild-Kuchen ist oder nicht!\n",
        "\n",
        "**Denkweise - Rezept für den Spiegelbild-Zahlenkuchen 🧠**\n",
        "\n",
        "1.  **Zutaten auswählen & backen:**  Wähle zwei Zahlen aus dem dreistelligen Zutatenregal (100 bis 999) und **multipliziere sie miteinander** (backe sie!).\n",
        "2.  **Spiegelbild-Test!:**  Ist dein gebackener Kuchen (das Ergebnis) ein **Palindrome**?  Benutze dein \"Palindrom-Testprogramm\", um das herauszufinden!\n",
        "3.  **Palindrome notieren:**  Wenn es ein Spiegelbild-Kuchen ist, dann **schreib diese Zahl auf** –  das ist ein vielversprechender Kandidat für unseren größten Palindrom-Kuchen!\n",
        "4.  **Alle Kombinationen durchgehen (oder clever sein!):**  Geh alle (oder zumindest viele) Kombinationen von dreistelligen Zahlen durch.  Der **größte aufgeschriebene Palindrom-Kuchen** ist deine Antwort!  Zeig, was du drauf hast, Chefkoch!\n",
        "\n",
        "**Python Lösung (Beispiel) 🐍**"
      ],
      "metadata": {
        "id": "hHEIve8Bq24G"
      }
    },
    {
      "cell_type": "code",
      "source": [
        "def ist_palindrom(zahl): # Funktion, die prüft, ob eine Zahl ein Palindrom ist\n",
        "    return str(zahl) == str(zahl)[::-1] # Zahl in String umwandeln und mit umgekehrter Version vergleichen\n",
        "\n",
        "groesstes_palindrom = 0 # Variable für das größte Palindrom, starten wir bei 0\n",
        "\n",
        "for zahl1 in range(100, 1000): # Äußere Schleife für die erste dreistellige Zahl (100 bis 999)\n",
        "    for zahl2 in range(100, 1000): # Innere Schleife für die zweite dreistellige Zahl (100 bis 999)\n",
        "        produkt = zahl1 * zahl2 # Zahlen \"backen\" (multiplizieren)\n",
        "        if ist_palindrom(produkt): # Ist das Ergebnis ein Palindrom-Kuchen?\n",
        "            if produkt > groesstes_palindrom: # Und ist er größer als unser bisher größter Kuchen?\n",
        "                groesstes_palindrom = produkt # Ja! Dann ist das unser neuer größter Palindrom-Kuchen!\n",
        "\n",
        "print(\"Das größte Palindrom, das durch Multiplikation zweier dreistelliger Zahlen entsteht, ist:\", groesstes_palindrom) # Präsentation des Meisterwerks!"
      ],
      "metadata": {
        "colab": {
          "base_uri": "https://localhost:8080/"
        },
        "id": "d2-YCe10q6N1",
        "outputId": "c17d18ff-c6e0-41c8-e101-231bbad81ac0"
      },
      "execution_count": null,
      "outputs": [
        {
          "output_type": "stream",
          "name": "stdout",
          "text": [
            "Das größte Palindrom, das durch Multiplikation zweier dreistelliger Zahlen entsteht, ist: 906609\n"
          ]
        }
      ]
    },
    {
      "cell_type": "markdown",
      "source": [
        "Extra Herausforderung (für Sterne-Bäcker!) 🌟\n",
        "\n",
        "Kannst du dein \"Rezept\" (deinen Code) noch effizienter machen?  Unser Code probiert jetzt alle Kombinationen von 100x100 bis 999x999 aus. Aber vielleicht können wir **cleverer vorgehen** und nicht so viele Kombinationen testen müssen, um das größte Palindrom zu finden?  Denk drüber nach, Chefkoch!  Gibt es eine Möglichkeit, die Suche abzukürzen oder **geschickter anzugehen?**"
      ],
      "metadata": {
        "id": "RvEcN9-2rYhu"
      }
    },
    {
      "cell_type": "markdown",
      "source": [
        "# Charlotte's Code Recipes 👩‍🍳 - Mission 005\n",
        "\n",
        "## Mission 005:  Lasst uns einen magischen Pfannkuchen backen, den alle teilen können! 🥞\n",
        "\n",
        "**Aufgabe**\n",
        "\n",
        "Es ist wirklich erstaunlich, aber die Zahl **2520** ist durch **jede Zahl von 1 bis 10** teilbar!  Und das ist noch nicht alles, sie ist sogar die **kleinste** Zahl mit dieser Eigenschaft. Unglaublich, oder?\n",
        "\n",
        "[Image of Ein Stapel Pfannkuchen, garniert mit Früchten und Puderzucker, Messer und Gabel liegen bereit. Auf dem obersten Pfannkuchen steht mit Zuckerguss \"2520\"]\n",
        "\n",
        "Jetzt wollen wir uns an einen noch **größeren Pfannkuchen** wagen!  Lasst uns den **kleinsten** Pfannkuchen backen, der sich **von allen Zahlen von 1 bis 20** **ohne Rest teilen** lässt – einen magischen Pfannkuchen, der für alle reicht!  Backen wir den ultimativen \"Alle-Teilen-Pfannkuchen\"!\n",
        "\n",
        "**Hinweis-Zutaten 📝**\n",
        "\n",
        "*   **Wer teilt mit?**:  Denk daran, wir brauchen einen Pfannkuchen, der für **alle Zahlen von 1 bis 20** reicht – das sind: 1, 2, 3, 4, 5, 6, 7, 8, 9, 10, 11, 12, 13, 14, 15, 16, 17, 18, 19, 20 Freunde!\n",
        "*   **Alle durchprobieren? Mühsam!**:  Es wäre **ziemlich anstrengend**, alle Zahlen nacheinander durchzugehen und zu prüfen.  Lass uns **kreativ** werden und überlegen, ob es einen clevereren Weg gibt!\n",
        "*   **Teilbarkeitstest:**  Wie finden wir heraus, ob ein Pfannkuchen (**Zahl**) für alle Freunde (**andere Zahl**) reicht?  Ganz einfach: Wir teilen den Pfannkuchen und schauen, ob **keine Krümel** (Rest = 0) übrig bleiben!\n",
        "*   **Programmier-Power nutzen:**  Hier kommt unsere **Programmier-Magie** ins Spiel!  Lass uns ein Programm schreiben, das uns hilft, die Zahlen systematisch zu prüfen und den magischen Pfannkuchen zu finden!\n",
        "\n",
        "**Denkweise - Das Rezept für den magischen Pfannkuchen 🧠**\n",
        "\n",
        "1.  **\"Kann-jeder-teilen?\"-Funktion kreieren:**  Zuerst brauchen wir ein magisches **\"Testwerkzeug\"** – eine Funktion, die uns verrät:  \"Ist dieser Pfannkuchen groß genug, um ihn **fair mit allen 20 Freunden zu teilen**?\"\n",
        "2.  **Pfannkuchengröße anpassen:**  Wir beginnen mit einem **kleinen Pfannkuchen** (fang z.B. bei 1 an und erhöhe die Größe schrittweise). Dann nutzen wir unser Testwerkzeug, um zu prüfen, ob der Pfannkuchen schon magisch ist.\n",
        "3.  **Magischen Pfannkuchen gefunden!**:  Sobald unser Testwerkzeug **\"Ja, dieser Pfannkuchen ist magisch!\"** sagt, haben wir ihn gefunden!  Das ist unser **kleinster magischer Pfannkuchen**, der alle Freunde glücklich macht!  Mission erfüllt!\n",
        "\n",
        "**Python Lösung (Beispiel) 🐍**"
      ],
      "metadata": {
        "id": "Cr2SfROEue1F"
      }
    },
    {
      "cell_type": "code",
      "source": [
        "def ist_teilbar_durch_alle(zahl, teiler_liste): # Funktion, die prüft, ob eine Zahl durch alle Teiler in der Liste teilbar ist\n",
        "    for teiler in teiler_liste: # Für jeden Teiler in der Liste\n",
        "        if zahl % teiler != 0: # Wenn die Zahl NICHT durch den Teiler teilbar ist (Rest ungleich 0)\n",
        "            return False # Dann ist sie NICHT durch alle teilbar, also False zurückgeben\n",
        "    return True # Wenn die Zahl durch ALLE Teiler teilbar ist, True zurückgeben!\n",
        "\n",
        "teiler_liste = range(1, 21) # Liste der Zahlen, durch die teilbar sein muss (1 bis 20)\n",
        "pfannkuchen_groesse = 1 # Wir starten mit einem kleinen Pfannkuchen (Größe 1)\n",
        "magischer_pfannkuchen = None # Noch keinen magischen Pfannkuchen gefunden\n",
        "\n",
        "while True: # Endlosschleife - wir suchen so lange, bis wir den magischen Pfannkuchen finden\n",
        "    if ist_teilbar_durch_alle(pfannkuchen_groesse, teiler_liste): # Ist dieser Pfannkuchen magisch? (durch alle teilbar?)\n",
        "        magischer_pfannkuchen = pfannkuchen_groesse # Ja! Gefunden! Das ist der magische Pfannkuchen\n",
        "        break # Schleife beenden - wir haben unser Ziel erreicht!\n",
        "    pfannkuchen_groesse += 1 # Pfannkuchen etwas größer machen und erneut testen\n",
        "\n",
        "print(\"Die kleinste Zahl, die durch alle Zahlen von 1 bis 20 teilbar ist, ist:\", magischer_pfannkuchen) # Tada! Der magische Pfannkuchen ist fertig!"
      ],
      "metadata": {
        "colab": {
          "base_uri": "https://localhost:8080/"
        },
        "id": "jQtHwe1ltd0-",
        "outputId": "db68e55e-2d7f-44ce-b1d5-85dc84ead1f6"
      },
      "execution_count": null,
      "outputs": [
        {
          "output_type": "stream",
          "name": "stdout",
          "text": [
            "Die kleinste Zahl, die durch alle Zahlen von 1 bis 20 teilbar ist, ist: 232792560\n"
          ]
        }
      ]
    },
    {
      "cell_type": "markdown",
      "source": [
        "**Extra Herausforderung (für Meister-Pfannkuchenbäcker! 🌟)**\n",
        "\n",
        "Unser Rezept dauert vielleicht ein bisschen, bis der magische Pfannkuchen fertig ist... Kannst du das Rezept (den Code) so **optimieren**, dass es schneller geht?  Gibt es vielleicht einen **Trick** oder eine **geheime Zutat**, die die Backzeit verkürzt?  Denk nach, Meisterbäcker, und finde den **Turbo-Pfannkuchen-Modus!**"
      ],
      "metadata": {
        "id": "m2xdP6nBt7wG"
      }
    },
    {
      "cell_type": "markdown",
      "source": [
        "# Charlotte's Code Recipes 👩‍🍳 - Mission 006\n",
        "\n",
        "## Mission 006: Finde die Summe der Quadrate einer Folge und die Differenz zwischen den Quadraten der Summe! 🍬🎂\n",
        "\n",
        "**Aufgabe**\n",
        "\n",
        "Wenn man alle Zahlen von 1 bis 10 quadriert und alle zusammenzählt, erhält man\n",
        "\n",
        "1² + 2² +... + 10² = 385\n",
        "\n",
        "Es wird sein.\n",
        "\n",
        "Als nächstes addieren Sie alle Zahlen von 1 bis 10 und quadrieren die Summe.\n",
        "\n",
        "(1 + 2 +... + 10)² = 3025\n",
        "\n",
        "Es wird sein.\n",
        "\n",
        "Die Differenz zwischen diesen Zahlen beträgt 3025 – 385 = 2640.\n",
        "\n",
        "Und wenn wir mit Zahlen von 1 bis 100 rechnen, was ist da der Unterschied? Wird er viel größer sein?\n",
        "\n",
        "[Image of Bonbons und Kuchen nebeneinander. Bonbons sind bunt und niedlich, Kuchen sieht edel und lecker aus. Im Hintergrund sind Formeln und Zahlen verstreut.]\n",
        "\n",
        "**Hinweis-Zutaten 📝**\n",
        "\n",
        "*   **Von 1 bis 100 zu rechnen ist mühsam!:** Alle Zahlen zwischen 1 und 100 zu quadrieren und zu addieren, ist eine mühsame Aufgabe, nicht wahr...? Lasst uns **kreativ** sein und nach einem einfacheren Weg suchen!\n",
        "*   **Magischer Zauberspruch für einfachere Berechnung: Formel:** Es gibt tatsächlich eine magische **Formel**, mit der man die Summe der Zahlen von 1 bis 100 **im Handumdrehen** berechnen kann! Probier sie mal aus und **verkürze** die Rechenzeit **erheblich**!\n",
        "*   **Achtung bei großen Zahlen!:** Wenn Sie Berechnungen mit dem Programm durchführen, werden Sie mit **großen Zahlen** zu tun haben.  Seien Sie also nicht beunruhigt, wenn die Ergebnisse **unerwartet** groß werden. Bleiben Sie ruhig und führen Sie die Berechnungen **genau** durch.\n",
        "\n",
        "**Denkweise - Rezept für die Berechnungs-Challenge 🧠**\n",
        "\n",
        "1.  **Berechnung der Candy-Cake-Zutaten (Summe der Quadrate):** Zuerst quadrieren wir alle Zahlen von 1 bis 100 und berechnen ihre **Summe**. Das ist so, als würden wir die Gesamtkosten für die Zutaten eines Candy-Cakes berechnen, oder?\n",
        "2.  **Berechnung der Whole-Cake-Zutaten (Quadrat der Summe):** Als Nächstes addieren wir erst alle Zahlen von 1 bis 100 **zusammen** und **quadrieren** dann diese Summe. Das ist so, als würden wir alle Zutaten für einen Whole-Cake auf einmal kaufen und auf dieser Basis die Kosten berechnen.\n",
        "3.  **Berechnen Sie die Differenz!:** Ziehen Sie schließlich die Materialkosten des **Candy-Cakes** (die in Schritt 1 berechnete Zahl) von den Materialkosten des **Whole-Cakes** (die in Schritt 2 berechnete Zahl) **ab**. So erhalten Sie die Differenz zwischen den Materialkosten der beiden Kuchen! ... Nicht wirklich, sondern die **Differenz** zwischen den beiden Berechnungsergebnissen! Das ist die Antwort auf unsere Challenge!\n",
        "\n",
        "**Python Lösung (Beispiel) 🐍**"
      ],
      "metadata": {
        "id": "qw0rcZ79vgJd"
      }
    },
    {
      "cell_type": "code",
      "source": [
        "sum_of_squares = 0 # Topf für die Zutatkosten des Candy-Cakes (Summe der Quadrate)\n",
        "square_of_sum = 0 # Topf für die Zutatkosten des Whole-Cakes (Quadrat der Summe)\n",
        "\n",
        "# Berechnung der Zutatkosten des Candy-Cakes (Summe der Quadrate)\n",
        "for number in range(1, 101): # Zahlen von 1 bis 100 der Reihe nach\n",
        "    sum_of_squares = sum_of_squares + number**2 # Zahl quadrieren und zum Candy-Cake-Topf hinzufügen\n",
        "\n",
        "# Berechnung der Zutatkosten des Whole-Cakes (Quadrat der Summe)\n",
        "sum_numbers = 0 # Zuerst ein kleiner Topf, um alle Zahlen zu addieren\n",
        "for number in range(1, 101): # Zahlen von 1 bis 100 der Reihe nach\n",
        "    sum_numbers = sum_numbers + number # Zahlen in den kleinen Topf addieren\n",
        "square_of_sum = sum_numbers**2 # Die Summe aus dem kleinen Topf quadrieren und in den Whole-Cake-Topf geben\n",
        "\n",
        "difference = square_of_sum - sum_of_squares # Den Candy-Cake-Topf vom Whole-Cake-Topf abziehen, um die Differenz zu berechnen\n",
        "\n",
        "print(\"Die Differenz zwischen dem Quadrat der Summe und der Summe der Quadrate der Zahlen von 1 bis 100 ist:\", difference) # Ergebnis der Berechnungs-Challenge bekannt geben!"
      ],
      "metadata": {
        "colab": {
          "base_uri": "https://localhost:8080/"
        },
        "id": "fdsjOs1Zvged",
        "outputId": "ab03c54a-8c39-4554-c2de-ac23ff3d660c"
      },
      "execution_count": null,
      "outputs": [
        {
          "output_type": "stream",
          "name": "stdout",
          "text": [
            "Die Differenz zwischen dem Quadrat der Summe und der Summe der Quadrate der Zahlen von 1 bis 100 ist: 25164150\n"
          ]
        }
      ]
    },
    {
      "cell_type": "markdown",
      "source": [
        "**Extra Herausforderung (für erfahrene Konditoren! 🌟)**\n",
        "\n",
        "Unser Rezept hat mit Zahlen von 1 bis 100 gerechnet, aber was passiert, wenn wir einen **größeren Bereich** nehmen, z. B. von 1 bis **10000**? Wie viel **größer** wird die Differenz wohl sein?  Versuchen Sie es vorherzusagen, modifizieren Sie dann das Programm und **überprüfen** Sie es! Vielleicht wird die Differenz **überraschend groß** sein ...?! Let's try it!"
      ],
      "metadata": {
        "id": "b5EO21Mlvi0l"
      }
    },
    {
      "cell_type": "markdown",
      "source": [
        "# Charlotte's Code Recipes 👩‍🍳 - Mission 007\n",
        "\n",
        "## Mission 007:  Die Jagd nach dem 10001. seltenen Gewürz! 🌶️\n",
        "\n",
        "**Aufgabe**\n",
        "\n",
        "Kennst du das? Wenn man **Primzahlen** der Größe nach aufreiht, dann sehen die ersten so aus: 2, 3, 5, 7, 11, 13, …\n",
        "\n",
        "Das sind ganz besondere Zahlen-Gewürze –  die **6. Primzahl** in dieser Liste ist die **13**.\n",
        "\n",
        "[Image of Eine Sammlung seltener und exotischer Gewürze in kleinen Gläsern und Schalen, kunstvoll angerichtet]\n",
        "\n",
        "**Deine Aufgabe, Gewürz-Experte:**\n",
        "\n",
        "Was aber ist die **10001. Primzahl** in dieser unendlichen Gewürz-Liste?  Finde das 10001. seltene Gewürz!  Eine echte Herausforderung für Kenner!\n",
        "\n",
        "**Hinweis-Zutaten 📝**\n",
        "\n",
        "*   **Primzahl-Grundlagen:**  Weißt du noch genau, was **Primzahlen** ausmacht? 🤔\n",
        "    *   Eine **Primzahl** ist wie ein **einzigartiges Gewürz**, das man nicht weiter zerteilen kann. Es ist nur durch 1 und sich selbst teilbar (z.B. 2, 3, 5, 7, 11...).\n",
        "    *   Primzahlen sind **unendlich** viele – wie eine unendliche Vielfalt an Gewürzen! Aber bis zur 10001. zu zählen, ist ganz schön viel Arbeit.\n",
        "*   **Systematische Gewürzsuche:**  Es wäre mühsam, alle Gewürze einzeln zu suchen und zu zählen…  Nutze die **Kraft der Programmierung**, um systematisch nach Primzahl-Gewürzen zu suchen!\n",
        "\n",
        "**Denkweise - Rezept für die 10001. Primzahl-Gewürzmischung 🧠**\n",
        "\n",
        "1.  **\"Ist-es-ein-Primzahl-Gewürz?\"-Tester bauen:**  Zuerst brauchen wir ein **Testwerkzeug** – eine Funktion, die uns sofort sagen kann:  \"Ist diese Zahl ein **Primzahl-Gewürz**? Ja oder Nein?\"\n",
        "2.  **Gewürzsuche starten (bei 2 beginnen):**  Wir starten unsere Gewürzsuche bei der **kleinsten Primzahl**: **2**.  Und dann gehen wir die Zahlen der Reihe nach durch: 3, 4, 5, 6, 7, …\n",
        "3.  **Primzahl-Gewürz gefunden! Zähler hoch!:**  Wenn unser Testwerkzeug sagt: \"Ja, das ist ein Primzahl-Gewürz!\", dann haben wir eins gefunden!  **Zähl eins hoch!** (Wir zählen, wie viele Primzahl-Gewürze wir schon haben).\n",
        "4.  **Weiter suchen bis 10001:**  Wir machen immer weiter mit der Gewürzsuche und dem Testen –  Zahl für Zahl, Primzahl für Primzahl –  bis unser **Gewürz-Zähler** **10001** erreicht!\n",
        "5.  **Das 10001. Gewürz ist gefunden!:**  Die **letzte Primzahl**, bei der unser Zähler auf 10001 springt, das ist sie!  Die **10001. Primzahl** – unser seltenstes und wertvollstes Gewürz!  Mission erfolgreich!\n",
        "\n",
        "**Python Lösung (Beispiel) 🐍**"
      ],
      "metadata": {
        "id": "crchw_Qyy37f"
      }
    },
    {
      "cell_type": "code",
      "source": [
        "def ist_primzahl(zahl): # Funktion, die testet, ob eine Zahl eine Primzahl ist (unser \"Primzahl-Gewürz\"-Tester)\n",
        "    if zahl <= 1: # 1 und Zahlen kleiner als 1 sind keine Primzahlen (keine Gewürze!)\n",
        "        return False\n",
        "    for i in range(2, int(zahl**0.5) + 1): # Teste nur bis zur Wurzel der Zahl, das spart Zeit!\n",
        "        if zahl % i == 0: # Wenn ein Teiler gefunden wird...\n",
        "            return False # ...ist es keine Primzahl (kein Primzahl-Gewürz!)\n",
        "    return True # Wenn kein Teiler gefunden wurde, ist es eine Primzahl! (ein Primzahl-Gewürz!)\n",
        "\n",
        "primzahl_zaehler = 0 # Zähler für gefundene Primzahl-Gewürze, startet bei 0\n",
        "zahl = 1 # Starte die Suche bei der Zahl 1\n",
        "\n",
        "while primzahl_zaehler < 10001: # Solange wir noch nicht 10001 Primzahl-Gewürze gefunden haben...\n",
        "    zahl += 1 # ...gehe zur nächsten Zahl über\n",
        "    if ist_primzahl(zahl): # Ist diese Zahl ein Primzahl-Gewürz? Teste es!\n",
        "        primzahl_zaehler += 1 # Ja! Primzahl-Gewürz gefunden! Zähler erhöhen\n",
        "\n",
        "print(\"Die 10001. Primzahl ist:\", zahl) # Das 10001. seltene Gewürz ist gefunden! Präsentation des Ergebnisses!"
      ],
      "metadata": {
        "colab": {
          "base_uri": "https://localhost:8080/"
        },
        "id": "v1b5IP4ty4hG",
        "outputId": "6622c2a4-0f31-4ae5-d293-9982c2ec4f90"
      },
      "execution_count": null,
      "outputs": [
        {
          "output_type": "stream",
          "name": "stdout",
          "text": [
            "Die 10001. Primzahl ist: 104743\n"
          ]
        }
      ]
    },
    {
      "cell_type": "markdown",
      "source": [
        "**Extra Herausforderung (für Sterne-Gewürzjäger! 🌟)**\n",
        "\n",
        "Kannst du dein \"Rezept\" (deinen Code) noch **schneller** machen?  Die Suche nach der 10001. Primzahl kann etwas dauern… Gibt es Tricks, um die Primzahl-Suche zu beschleunigen?  Denk über **clevere Suchstrategien** nach!  Vielleicht gibt es ja **noch effizientere \"Gewürzjagd\"-Methoden**!  Zeig uns deinen Meister-Gewürzjäger-Code!"
      ],
      "metadata": {
        "id": "_rgYFjuwyEdO"
      }
    },
    {
      "cell_type": "markdown",
      "source": [
        "# Charlotte's Code Recipes 👩‍🍳 - Mission 008\n",
        "\n",
        "## Mission 008:  Geschmacksschatzsuche mit einer 1000-stelligen Zahl! 💎🌶️\n",
        "\n",
        "**Aufgabe**\n",
        "\n",
        "Wir haben hier eine **riesige 1000-stellige Zahl** vor uns –  stell sie dir vor wie eine **Schatzkarte voller Geschmacksgeheimnisse**!\n",
        "\n",
        "7316717653133062491922511967442657474235534919493496983520312774506326239578318016984801869478851843\n",
        "8586156078911294949545950173795833195285320880551112540698747158523863050715693290963295227443043557\n",
        "6689664895044524452316173185640309871112172238311362229893423380308135336276614282806444486645238749\n",
        "3035890729629049156044077239071381051585930796086670172427121883998797908792274921901699720888093776\n",
        "6572733300105336788122023542180975125454059475224352584907711670556013604839586446706324415722155397\n",
        "5369781797784617406495514929086256932197846862248283972241375657056057490261407972968652414535100474\n",
        "8216637048440319989000889524345065854122758866688116427171479924442928230863465674813919123162824586\n",
        "1786645835912456652947654568284891288314260769004224219022671055626321111109370544217506941658960408\n",
        "0719840385096245544436298123098787992724428490918884580156166097919133875499200524063689912560717606\n",
        "0588611646710940507754100225698315520005593572972571636269561882670428252483600823257530420752963450\n",
        "\n",
        "Wenn du **vier benachbarte Ziffern** aus dieser riesigen Zahl nimmst und sie **miteinander multiplizierst**, dann ist das **größte Geschmackserlebnis**, das du bisher finden kannst,  9 × 9 × 8 × 9 = 5832.  Stell dir vor, jede Ziffer steht für die **Intensität einer Geschmacksnote**!\n",
        "\n",
        "[Image of Eine stilisierte Schatzkarte, auf der die 1000-stellige Zahl als Weg eingezeichnet ist. Kleine Icons von Gewürzen oder Zutaten sind entlang des Weges verstreut, einige sind hervorgehoben.]\n",
        "\n",
        "**Deine Mission, Geschmacksjäger:**\n",
        "\n",
        "Jetzt wollen wir aber **noch intensivere Geschmackskombinationen** finden!  Wähle **13 benachbarte Ziffern** aus dieser 1000-stelligen Zahl aus und multipliziere sie miteinander.  Deine Aufgabe ist es, die **Kombination mit dem intensivsten Geschmackserlebnis** (das größte Produkt) zu finden!  Entdecke den ultimativen Geschmacks-Schatz!\n",
        "\n",
        "**Hinweis-Zutaten 📝**\n",
        "\n",
        "*   **1000 Ziffern – Unendliche Möglichkeiten?**: Es gibt **super viele** Möglichkeiten, 13 Ziffern aus dieser 1000-stelligen Zahl auszuwählen! Alle einzeln zu prüfen, wäre **wahnsinnig aufwendig**.  Aber keine Sorge, wir sind ja **clevere Geschmacksjäger**!\n",
        "*   **Programmier-Power für die Suche:**  Nutzen wir die **Magie der Programmierung**, um uns durch den Zahlendschungel zu kämpfen!  Ein **Programm** kann uns helfen, alle möglichen Kombinationen systematisch zu finden und das beste Geschmackserlebnis zu entdecken.\n",
        "*   **Vorsicht bei großen Produkten!:**  Wenn du **13 Ziffern multiplizierst**, können **riesige Zahlen** entstehen, die vielleicht sogar für Taschenrechner zu groß werden!  Aber unser Python kann das locker –  keine Panik, einfach **drauf losprogrammieren**!\n",
        "\n",
        "**Denkweise - Rezept für die ultimative Geschmackskombination 🧠**\n",
        "\n",
        "1.  **13er-Ziffern-Happen extrahieren:**  Schneide dir **13 Ziffern am Stück** aus unserer 1000-stelligen Zahlen-Schatzkarte heraus.  Denk dran, sie müssen **direkt nebeneinander** liegen!\n",
        "2.  **Geschmackstest: Multiplizieren!:**  **Multipliziere** diese 13 Ziffern miteinander –  das Ergebnis ist dein **\"Geschmackswert\"** für diese Kombination.  Je höher der Wert, desto intensiver der Geschmack!\n",
        "3.  **Geschmackswerte vergleichen & notieren:**  **Merk dir den Geschmackswert!**  Wenn er **höher** ist als der bisher beste Geschmackswert, den du gefunden hast, dann ist das dein **neuer Spitzenreiter**!\n",
        "4.  **Schatzkarte systematisch absuchen:**  Geh die **ganze Schatzkarte** (die 1000-stellige Zahl) systematisch ab und probiere **alle möglichen 13er-Ziffern-Kombinationen** durch.  Die Kombination mit dem **höchsten Geschmackswert** ist dein **ultimativer Geschmacks-Schatz**!  Zeig uns deinen Findergeist, Geschmacksjäger!\n",
        "\n",
        "**Python Lösung (Beispiel) 🐍**"
      ],
      "metadata": {
        "id": "jgwp9ss45a7Y"
      }
    },
    {
      "cell_type": "code",
      "source": [
        "nummer_string = \"7316717653133062491922511967442657474235534919493496983520312774506326239578318016984801869478851843858615607891129494954595017379583319528532088055111254069874715852386305071569329096329522744304355766896648950445244523161731856403098711121722383113622298934233803081353362766142828064444866452387493035890729629049156044077239071381051585930796086670172427121883998797908792274921901699720888093776657273330010533678812202354218097512545405947522435258490771167055601360483958644670632441572215539753697817977846174064955149290862569321978468622482839722413756570560574902614079729686524145351004748216637048440319989000889524345065854122758866688116427171479924442928230863465674813919123162824586178664583591245665294765456828489128831426076900422421902267105562632111110937054421750694165896040807198403850962455444362981230987879927244284909188845801561660979191338754992005240636899125607176060588611646710940507754100225698315520005593572972571636269561882670428252483600823257530420752963450\" # Unsere 1000-stellige Schatzkarte!\n",
        "\n",
        "maximaler_geschmackswert = 0 # Variable für den bisher höchsten Geschmackswert, starten wir bei 0\n",
        "\n",
        "for i in range(len(nummer_string) - 12): # Schleife durch die Schatzkarte, stoppt 12 Stellen vor Ende, damit wir 13er-Gruppen bilden können\n",
        "    produkt = 1 # Produkt für die aktuelle 13er-Gruppe, initial auf 1 setzen\n",
        "    for j in range(i, i + 13): # Innere Schleife für die 13 Ziffern in der aktuellen Gruppe\n",
        "        produkt *= int(nummer_string[j]) # Ziffern in Integer umwandeln und Produkt berechnen\n",
        "    if produkt > maximaler_geschmackswert: # Ist der aktuelle Geschmackswert besser als der bisherige Spitzenwert?\n",
        "        maximaler_geschmackswert = produkt # Ja! Dann ist das unser neuer Spitzenreiter!\n",
        "\n",
        "print(\"Der höchste Geschmackswert (Produkt von 13 benachbarten Ziffern) ist:\", maximaler_geschmackswert) # Präsentation des ultimativen Geschmacks-Schatzes!"
      ],
      "metadata": {
        "colab": {
          "base_uri": "https://localhost:8080/"
        },
        "id": "QhTkiUio5bgP",
        "outputId": "8066d1e5-21dc-4389-c726-c84a62fbf10b"
      },
      "execution_count": null,
      "outputs": [
        {
          "output_type": "stream",
          "name": "stdout",
          "text": [
            "Der höchste Geschmackswert (Produkt von 13 benachbarten Ziffern) ist: 23514624000\n"
          ]
        }
      ]
    },
    {
      "cell_type": "markdown",
      "source": [
        "**Extra Herausforderung (für Meister-Geschmacksjäger! 🌟)**\n",
        "\n",
        "Kannst du deine \"Schatzkarte\" (deinen Code) noch weiterentwickeln?  Unser Code findet jetzt den **maximalen Geschmackswert für 13 benachbarte Ziffern**.  Aber was, wenn wir nicht nur den **Wert**, sondern auch die **genaue Position** der 13 Ziffern auf der Schatzkarte wissen wollen, die diesen maximalen Geschmack liefern?  Erweitere deinen Code so, dass er uns nicht nur den **höchsten Wert, sondern auch die Startposition der Ziffernfolge** verrät!  Werde zum ultimativen Geschmacks-Kartographen!"
      ],
      "metadata": {
        "id": "GtE0YWNG5cBX"
      }
    },
    {
      "cell_type": "markdown",
      "source": [
        "# Charlotte's Code Recipes 👩‍🍳 - Mission 009\n",
        "\n",
        "## Mission 009:  Lasst uns mit dem Satz des Pythagoras spielen! Dreiecks-Kuchen backen! 📐🍰\n",
        "\n",
        "**Aufgabe**\n",
        "\n",
        "Kennst du den **Satz des Pythagoras**?  Das ist wie ein **magisches Back-Gesetz** für Dreiecke!\n",
        "\n",
        "Es ist eine Formel, die das Verhältnis der Seitenlängen von ganz bestimmten Dreiecken beschreibt – nämlich von **rechtwinkligen Dreiecken**.  Die Formel lautet:  **a² + b² = c²**\n",
        "\n",
        "[Image of Ein rechtwinkliges Dreieck, bei dem die Seiten a, b und c beschriftet sind und die Formel a² + b² = c² daneben steht. Vielleicht aus Lebensmitteln oder Kuchenstücken zusammengesetzt.]\n",
        "\n",
        "**a**, **b** und **c** stehen dabei für die Längen der drei Seiten: **a** und **b** sind die kürzeren Seiten (die am rechten Winkel anliegen), und **c** ist die längste Seite, die dem rechten Winkel gegenüberliegt.\n",
        "\n",
        "**Ein kleines Back-Beispiel:**\n",
        "\n",
        "Wenn wir **a = 3**, **b = 4** und **c = 5** nehmen, dann klappt das magische Gesetz:\n",
        "\n",
        "3² + 4² = 9 + 16 = 25 = 5²\n",
        "\n",
        "Der Satz des Pythagoras stimmt also!  Wenn **a**, **b** und **c** alles **ganze Zahlen** sind (wie 1, 2, 3, ... ) und dieses Gesetz erfüllen, dann nennen wir **(a, b, c)** ein **pythagoräisches Zahlentripel**.  Das sind wie perfekte \"Dreiecks-Kuchen-Zutaten\"!\n",
        "\n",
        "**Hier kommt deine Back-Herausforderung:**\n",
        "\n",
        "Es gibt genau **ein** pythagoräisches Zahlentripel (**a, b, c**), bei dem die Summe der Seitenlängen **a + b + c = 1000** ist.  Finde dieses besondere Tripel und **berechne dann das Produkt a × b × c**!  Backe den ultimativen Pythagoras-Kuchen!\n",
        "\n",
        "**Hinweis-Zutaten 📝**\n",
        "\n",
        "*   **Back-Regel beachten:** Vergiss nicht die wichtige **Back-Regel: a < b < c**.  Die Seitenlängen müssen in dieser Reihenfolge sein.\n",
        "*   **Viele Kuchen, viel probieren?:** Es gibt **viele** verschiedene Kombinationen für **a**, **b** und **c**, die **a + b + c = 1000** ergeben könnten.  Aber alle einzeln zu prüfen, wäre ganz schön viel Arbeit.  Sei ein **cleverer Bäcker** und finde einen effizienten Weg!\n",
        "*   **Programmier-Power nutzen!:** Es ist sinnvoll, ein **Programm** zu schreiben, das uns hilft, die richtigen Zutaten (**a, b, c**) zu finden, die alle Back-Regeln erfüllen.\n",
        "\n",
        "**Denkweise - Rezept für den Pythagoras-Dreiecks-Kuchen 🧠**\n",
        "\n",
        "1.  **Zutaten-Kombinationen festlegen (a, b, c):**  Wähle drei Zahlen **a**, **b** und **c** aus, die die **Back-Regel a < b < c** erfüllen.  Denk daran, wir suchen **ganze Zahlen**!\n",
        "2.  **Pythagoras-Test!:**  Erfüllen deine Zutaten das **magische Back-Gesetz**?  **Teste**:  Ist **a² + b² = c²** ?\n",
        "3.  **Summen-Test!:**  Erfüllen deine Zutaten auch die **\"1000er-Summen-Regel\"?**  **Teste**: Ist **a + b + c = 1000** ?\n",
        "4.  **Perfekte Kuchen-Zutaten gefunden?:** Wenn deine Zutaten **beide Tests bestehen** (Schritt 2 und 3), dann hast du das **besondere Pythagoras-Tripel** gefunden!  **Berechne a × b × c**  –  das ist die Antwort, das Geheimnis des ultimativen Pythagoras-Kuchens!\n",
        "\n",
        "**Python Lösung (Beispiel) 🐍**"
      ],
      "metadata": {
        "id": "SUNsXsAj8XAg"
      }
    },
    {
      "cell_type": "code",
      "source": [
        "for a in range(1, 1000): # Schleife für die erste Seite 'a' (von 1 bis fast 1000)\n",
        "    for b in range(a + 1, 1000): # Schleife für die zweite Seite 'b' (muss größer sein als 'a')\n",
        "        c = 1000 - a - b # Berechnung der dritten Seite 'c' (Summe muss 1000 sein)\n",
        "        if b < c: # Bedingung 'b < c' prüfen (implizit ist auch 'a < b' durch die Schleifen gegeben)\n",
        "            if a**2 + b**2 == c**2: # Pythagoras-Test: a² + b² = c² ?\n",
        "                produkt = a * b * c # Ja! Dann Produkt a * b * c berechnen\n",
        "                print(\"Pythagoräisches Tripel (a, b, c):\", a, b, c) # Tripel ausgeben\n",
        "                print(\"Produkt a * b * c:\", produkt) # Produkt ausgeben"
      ],
      "metadata": {
        "colab": {
          "base_uri": "https://localhost:8080/"
        },
        "id": "nhx4Gdji8Xnw",
        "outputId": "ecdd641a-d2d9-4177-d494-276dd974c1c3"
      },
      "execution_count": null,
      "outputs": [
        {
          "output_type": "stream",
          "name": "stdout",
          "text": [
            "Pythagoräisches Tripel (a, b, c): 200 375 425\n",
            "Produkt a * b * c: 31875000\n"
          ]
        }
      ]
    },
    {
      "cell_type": "markdown",
      "source": [
        "**Extra Herausforderung (für Meister-Konditoren! 🌟)**\n",
        "\n",
        "Kannst du dein \"Rezept\" (deinen Code) noch eleganter machen?  Unser Code findet die Lösung, aber er probiert **viele unnötige Kombinationen** aus.  Gibt es Möglichkeiten, die Suche **effizienter** zu gestalten und weniger \"**Kuchen**\" zu \"**backen**\", um zum gleichen Ergebnis zu kommen?  Denk über **clevere Optimierungen** nach!  Zeig uns dein Meister-Konditor-Rezept!"
      ],
      "metadata": {
        "id": "RRX7_BJ08YHY"
      }
    },
    {
      "cell_type": "markdown",
      "source": [
        "# Charlotte's Code Recipes 👩‍🍳 - Mission 010\n",
        "\n",
        "## Mission 010:  Primzahl-Körner sieben mit dem Sieb des Eratosthenes! 🌾\n",
        "\n",
        "**Aufgabe**\n",
        "\n",
        "Weißt du noch, was **Primzahlen** sind?  Das sind ganz besondere Zahlen –  man kann sie nur durch 1 und durch sich selbst teilen, ohne Rest!\n",
        "\n",
        "Zum Beispiel:  **2, 3, 5 und 7** sind Primzahlen. **4 und 6** aber nicht, denn 4 kann man durch 2 teilen, und 6 durch 2 und 3.\n",
        "\n",
        "[Image of Ein Koch, der mit einem großen Sieb über einer Schüssel steht und \"Primzahl-Körner\" aus einer Mischung von Körnern und Spreu siebt.]\n",
        "\n",
        "Wenn man alle Primzahlen **unter 10** zusammenzählt, dann bekommt man:  2 + 3 + 5 + 7 = **17**.\n",
        "\n",
        "**Deine Aufgabe, Korn-Experte:**\n",
        "\n",
        "Was aber bekommst du, wenn du **alle Primzahlen unter 2 Millionen** zusammenzählst?  Eine riesige Summe, garantiert!  Finde die Summe aller Primzahl-Körner unter 2 Millionen!\n",
        "\n",
        "**Hinweis-Zutaten 📝**\n",
        "\n",
        "*   **Das magische Sieb des Eratosthenes:**  Eine superclevere Methode, um Primzahlen zu finden, ist das **Sieb des Eratosthenes**.  Stell es dir vor wie ein **magisches Sieb**, das alle **Nicht-Primzahlen** (**\"Spreu\"**) aussortiert und nur die wertvollen **Primzahl-Körner** übrig lässt!\n",
        "*   **Aussortieren, nicht zählen:** Das Sieb des Eratosthenes hilft uns, **alle Zahlen auszusortieren, die KEINE Primzahlen sind**.  Die, die am Ende im Sieb übrig bleiben, sind unsere begehrten Primzahlen!\n",
        "*   **Große Zahlen, cooler Kopf:**  Wenn du mit dem Programm rechnest, wirst du mit **ziemlich großen Zahlen** hantieren –  lass dich davon nicht einschüchtern!  Python ist stark genug dafür, aber **arbeite sorgfältig** und **überprüfe deine Schritte**!\n",
        "\n",
        "**Denkweise - Rezept für das Sieben der Primzahl-Körner 🧠**\n",
        "\n",
        "1.  **\"Zahlen-Samen\" vorbereiten:**  Erstelle eine **Liste mit allen Zahlen** von 2 bis **2 Millionen**.  Das sind unsere \"Zahlen-Samen\", aus denen wir die Primzahl-Körner sieben wollen.\n",
        "2.  **Das magische Sieb anwenden:**  Jetzt kommt das **Sieb des Eratosthenes** zum Einsatz!  Starte bei der ersten Zahl in deiner Liste (**2** ist die kleinste Primzahl).  Gehe dann die Liste entlang und **streiche alle Vielfachen** dieser Zahl (4, 6, 8, usw.) –  das ist die \"Spreu\", die keine Primzahl-Körner sind.\n",
        "3.  **Nächste ungestrichene Zahl:**  Geh weiter in deiner Liste, bis du zur nächsten Zahl kommst, die **noch nicht gestrichen** ist.  Diese Zahl ist die **nächste Primzahl**!  Wiederhole Schritt 2:  Streiche alle Vielfachen dieser neuen Primzahl.\n",
        "4.  **Sieben bis zum Ende:**  Wiederhole die Schritte 2 und 3, bis du das Ende deiner Liste (2 Millionen) erreicht hast.\n",
        "5.  **Primzahl-Körner ernten & Summe bilden:**  Alle Zahlen, die am Ende **nicht gestrichen** sind, das sind deine **Primzahl-Körner**!  **Addiere sie alle zusammen** –  das Ergebnis ist die Antwort auf unsere Mission!\n",
        "\n",
        "**Python Lösung (Beispiel) 🐍**"
      ],
      "metadata": {
        "id": "FtJHQTI1CTih"
      }
    },
    {
      "cell_type": "code",
      "source": [
        "def sieb_des_eratosthenes(obergrenze): # Funktion, die das Sieb des Eratosthenes implementiert (unser \"magisches Sieb\")\n",
        "    zahlen = [True] * obergrenze # Liste erstellen: True für jede Zahl bis zur Obergrenze (Zahlen-Samen vorbereiten)\n",
        "    zahlen[0] = zahlen[1] = False # 0 und 1 sind keine Primzahlen (gleich aussortieren)\n",
        "\n",
        "    for i in range(2, int(obergrenze**0.5) + 1): # Nur bis zur Wurzel der Obergrenze sieben, das spart Zeit!\n",
        "        if zahlen[i]: # Wenn die Zahl noch \"im Sieb\" ist (noch nicht als Nicht-Primzahl markiert)...\n",
        "            for vielfaches in range(i*i, obergrenze, i): # ...dann streiche alle Vielfachen dieser Zahl (Spreu aussortieren)\n",
        "                zahlen[vielfaches] = False\n",
        "\n",
        "    primzahlen_summe = 0 # Variable für die Summe der Primzahl-Körner, starten wir bei 0\n",
        "    for i in range(obergrenze): # Liste der Zahlen durchgehen\n",
        "        if zahlen[i]: # Wenn die Zahl \"im Sieb\" übrig geblieben ist (True ist)...\n",
        "            primzahlen_summe += i # ...dann ist es eine Primzahl! Zur Summe hinzufügen\n",
        "\n",
        "    return primzahlen_summe # Summe der Primzahl-Körner zurückgeben\n",
        "\n",
        "obergrenze = 2000000 # Bis zu dieser Grenze suchen wir Primzahlen (2 Millionen)\n",
        "summe_aller_primzahlen = sieb_des_eratosthenes(obergrenze) # Magisches Sieben anwenden!\n",
        "\n",
        "print(\"Die Summe aller Primzahlen unter 2 Millionen ist:\", summe_aller_primzahlen) # Präsentation der geernteten Primzahl-Körner und ihrer Summe!"
      ],
      "metadata": {
        "colab": {
          "base_uri": "https://localhost:8080/"
        },
        "id": "R_mef2gu_i_h",
        "outputId": "9f3fd2cf-3b28-41a7-c67a-ee88d0f2178b"
      },
      "execution_count": null,
      "outputs": [
        {
          "output_type": "stream",
          "name": "stdout",
          "text": [
            "Die Summe aller Primzahlen unter 2 Millionen ist: 142913828922\n"
          ]
        }
      ]
    },
    {
      "cell_type": "markdown",
      "source": [
        "**Extra Herausforderung (für Meister-Sieb-Künstler! 🌟)**\n",
        "\n",
        "Kannst du dein \"Sieb\" (deinen Code) noch **feiner** und **schneller** machen?  Unser Sieb funktioniert, aber vielleicht gibt es ja noch **Tricks**, um das Sieben zu **beschleunigen oder weniger \"Spreu\" von Hand aussortieren** zu müssen?  Denk über **clevere Optimierungen** nach, um noch mehr \"Primzahl-Körner\" in kürzerer Zeit zu ernten!  Zeig uns deine Meister-Sieb-Technik!"
      ],
      "metadata": {
        "id": "grDfLVrlROmv"
      }
    },
    {
      "cell_type": "markdown",
      "source": [
        "# Charlotte's Code Recipes 👩‍🍳 - Mission 011\n",
        "\n",
        "## Mission 011:  20x20 Zahlen-Puzzle - Finde die intensivste Geschmackskombination! 🌶️💎\n",
        "\n",
        "**Aufgabe**\n",
        "\n",
        "Wir haben hier ein **20x20 Raster voller Zahlen** –  stell es dir vor wie eine **Palette von Geschmacksrichtungen**! Jede Zahl steht für die **Intensität eines Aromas**.\n",
        "\n",
        "#####08 02 22 97 38 15 00 40 00 75 04 05 07 78 52 12 50 77 91 08\n",
        "#####49 49 99 40 17 81 18 57 60 87 17 40 98 43 69 48 04 56 62 00\n",
        "#####81 49 31 73 55 79 14 29 93 71 40 67 53 88 30 03 49 13 36 65\n",
        "#####52 70 95 23 04 60 11 42 69 24 68 56 01 32 56 71 37 02 36 91\n",
        "#####22 31 16 71 51 67 63 89 41 92 36 54 22 40 40 28 66 33 13 80\n",
        "#####24 47 32 60 99 03 45 02 44 75 33 53 78 36 84 20 35 17 12 50\n",
        "#####32 98 81 28 64 23 67 10 26 38 40 67 59 54 70 66 18 38 64 70\n",
        "#####67 26 20 68 02 62 12 20 95 63 94 39 63 08 40 91 66 49 94 21\n",
        "#####24 55 58 05 66 73 99 26 97 17 78 78 96 83 14 88 34 89 63 72\n",
        "#####21 36 23 09 75 00 76 44 20 45 35 14 00 61 33 97 34 31 33 95\n",
        "#####78 17 53 28 22 75 31 67 15 94 03 80 04 62 16 14 09 53 56 92\n",
        "#####16 39 05 42 96 35 31 47 55 58 88 24 00 17 54 24 36 29 85 57\n",
        "#####86 56 00 48 35 71 89 07 05 44 44 37 44 60 21 58 51 54 17 58\n",
        "#####19 80 81 68 05 94 47 69 28 73 92 13 86 52 17 77 04 89 55 40\n",
        "#####04 52 08 83 97 35 99 16 07 97 57 32 16 26 26 79 33 27 98 66\n",
        "#####88 36 68 87 57 62 20 72 03 46 33 67 46 55 12 32 63 93 53 69\n",
        "#####04 42 16 73 38 25 39 11 24 94 72 18 08 46 29 32 40 62 76 36\n",
        "#####20 69 36 41 72 30 23 88 34 62 99 69 82 67 59 85 74 04 36 16\n",
        "#####20 73 35 29 78 31 90 01 74 31 49 71 48 86 81 16 23 57 05 54\n",
        "#####01 70 54 71 83 51 54 69 16 92 33 48 61 43 52 01 89 19 67 48\n",
        "\n",
        "Deine Aufgabe ist es, die **intensivste Geschmackskombination** zu finden!  Wähle **vier benachbarte Zahlen** aus diesem Raster –  entweder **waagerecht**, **senkrecht** oder **diagonal** – und **multipliziere sie miteinander**.  Finde die Kombination, die das **größte Geschmackserlebnis** (das größte Produkt) liefert!\n",
        "\n",
        "[Image of Nahaufnahme eines 20x20 Rasters mit Zahlen, einige Vierergruppen in verschiedenen Richtungen (horizontal, vertikal, diagonal) sind farblich hervorgehoben, um die Idee von \"Zahlengruppen\" als Geschmackskombinationen zu visualisieren. Vielleicht sind Gewürz-Icons an den hervorgehobenen Zahlen.]\n",
        "\n",
        "**Hinweis-Zutaten 📝**\n",
        "\n",
        "*   **Unzählige Geschmacksproben:**  Es gibt **viele Möglichkeiten**, vier benachbarte Zahlen aus diesem Raster auszuwählen! Alle manuell zu prüfen, wäre **sehr mühsam**.  Aber keine Sorge, wir haben **clevere Methoden**!\n",
        "*   **Taschenrechner für erste Geschmackstests:**  Für den Anfang kannst du einen **Taschenrechner** benutzen, um einzelne Geschmackskombinationen zu testen und ein Gefühl für die Zahlen zu bekommen.\n",
        "*   **Genauigkeit ist wichtig!:**  Achte beim Berechnen und Vergleichen der Geschmackswerte darauf, **keine Fehler** zu machen! **Präzision** ist der Schlüssel zum Finden des ultimativen Geschmacks!\n",
        "\n",
        "**Denkweise - Rezept für die Suche nach der besten Geschmackskombination 🧠**\n",
        "\n",
        "1.  **Vierer-Geschmacks-Sets auswählen:**  Wähle **vier Zahlen** aus dem Raster aus, die **direkt nebeneinander** liegen –  entweder **waagerecht**, **senkrecht** oder **diagonal**.  Das sind deine \"Geschmacks-Sets\".\n",
        "2.  **Geschmackstest: Multiplizieren!:**  **Multipliziere** die vier Zahlen in deinem Set miteinander.  Das Ergebnis ist der **\"Geschmackswert\"** dieser Kombination. Je höher der Wert, desto intensiver der Geschmack!\n",
        "3.  **Größten Geschmackswert merken:**  Vergleiche den **Geschmackswert** mit dem bisher **größten Wert**, den du gefunden hast.  Wenn der neue Wert größer ist, dann **aktualisiere deinen \"Geschmacks-Highscore\"**!\n",
        "4.  **Systematische Geschmackspaletten-Analyse:**  Gehe das **gesamte Zahlenraster** systematisch durch und teste **alle möglichen Vierer-Kombinationen** in **allen Richtungen** (waagerecht, senkrecht, diagonal).  Die Kombination mit dem **höchsten Geschmackswert** ist dein **ultimativer Geschmacks-Jackpot**!  Lass uns auf Geschmacksjagd gehen!\n",
        "\n",
        "**Python Lösung (Beispiel) 🐍**"
      ],
      "metadata": {
        "id": "lo8SIZ23mH00"
      }
    },
    {
      "cell_type": "code",
      "source": [
        "zahlen_raster = [ # Unsere 20x20 \"Geschmackspalette\" als Python-Liste\n",
        "    [8, 2, 22, 97, 38, 15, 0, 40, 0, 75, 4, 5, 7, 78, 52, 12, 50, 77, 91, 8],\n",
        "    [49, 49, 99, 40, 17, 81, 18, 57, 60, 87, 17, 40, 98, 43, 69, 48, 4, 56, 62, 0],\n",
        "    [81, 49, 31, 73, 55, 79, 14, 29, 93, 71, 40, 67, 53, 88, 30, 3, 49, 13, 36, 65],\n",
        "    [52, 70, 95, 23, 4, 60, 11, 42, 69, 24, 68, 56, 1, 32, 56, 71, 37, 2, 36, 91],\n",
        "    [22, 31, 16, 71, 51, 67, 63, 89, 41, 92, 36, 54, 22, 40, 40, 28, 66, 33, 13, 80],\n",
        "    [24, 47, 32, 60, 99, 3, 45, 2, 44, 75, 33, 53, 78, 36, 84, 20, 35, 17, 12, 50],\n",
        "    [32, 98, 81, 28, 64, 23, 67, 10, 26, 38, 40, 67, 59, 54, 70, 66, 18, 38, 64, 70],\n",
        "    [67, 26, 20, 68, 2, 62, 12, 20, 95, 63, 94, 39, 63, 8, 40, 91, 66, 49, 94, 21],\n",
        "    [24, 55, 58, 5, 66, 73, 99, 26, 97, 17, 78, 78, 96, 83, 14, 88, 34, 89, 63, 72],\n",
        "    [21, 36, 23, 9, 75, 0, 76, 44, 20, 45, 35, 14, 0, 61, 33, 97, 34, 31, 33, 95],\n",
        "    [78, 17, 53, 28, 22, 75, 31, 67, 15, 94, 3, 80, 4, 62, 16, 14, 9, 53, 56, 92],\n",
        "    [16, 39, 5, 42, 96, 35, 31, 47, 55, 58, 88, 24, 0, 17, 54, 24, 36, 29, 85, 57],\n",
        "    [86, 56, 0, 48, 35, 71, 89, 7, 5, 44, 44, 37, 44, 60, 21, 58, 51, 54, 17, 58],\n",
        "    [19, 80, 81, 68, 5, 94, 47, 69, 28, 73, 92, 13, 86, 52, 17, 77, 4, 89, 55, 40],\n",
        "    [4, 52, 8, 83, 97, 35, 99, 16, 7, 97, 57, 32, 16, 26, 26, 79, 33, 27, 98, 66],\n",
        "    [88, 36, 68, 87, 57, 62, 20, 72, 3, 46, 33, 67, 46, 55, 12, 32, 63, 93, 53, 69],\n",
        "    [4, 42, 16, 73, 38, 25, 39, 11, 24, 94, 72, 18, 8, 46, 29, 32, 40, 62, 76, 36],\n",
        "    [20, 69, 36, 41, 72, 30, 23, 88, 34, 62, 99, 69, 82, 67, 59, 85, 74, 4, 36, 16],\n",
        "    [20, 73, 35, 29, 78, 31, 90, 1, 74, 31, 49, 71, 48, 86, 81, 16, 23, 57, 5, 54],\n",
        "    [1, 70, 54, 71, 83, 51, 54, 69, 16, 92, 33, 48, 61, 43, 52, 1, 89, 19, 67, 48]\n",
        "]\n",
        "\n",
        "maximaler_geschmackswert = 0 # Variable für den höchsten Geschmackswert, initial auf 0 gesetzt\n",
        "\n",
        "# Schleifen für alle Startpositionen im Raster\n",
        "for zeile in range(20): # Zeilen durchgehen\n",
        "    for spalte in range(20): # Spalten durchgehen\n",
        "\n",
        "        # Geschmackstest - Waagerecht (horizontal)\n",
        "        if spalte < 17: # Sicherstellen, dass wir im Raster bleiben (4 Zahlen waagerecht passen müssen)\n",
        "            produkt = 1 # Produkt für die aktuelle Kombination, initial auf 1\n",
        "            for i in range(4): # 4 Zahlen multiplizieren\n",
        "                produkt *= zahlen_raster[zeile][spalte + i] # Zahlen aus dem Raster holen und multiplizieren\n",
        "            if produkt > maximaler_geschmackswert: # Ist dieser Geschmackswert besser als der bisherige Highscore?\n",
        "                maximaler_geschmackswert = produkt # Ja, Highscore aktualisieren\n",
        "\n",
        "        # Geschmackstest - Senkrecht (vertikal)\n",
        "        if zeile < 17: # Sicherstellen, dass wir im Raster bleiben (4 Zahlen senkrecht passen müssen)\n",
        "            produkt = 1 # Produkt zurücksetzen\n",
        "            for i in range(4): # 4 Zahlen multiplizieren\n",
        "                produkt *= zahlen_raster[zeile + i][spalte] # Zahlen aus dem Raster holen und multiplizieren\n",
        "            if produkt > maximaler_geschmackswert: # Highscore-Check\n",
        "                maximaler_geschmackswert = produkt # Highscore aktualisieren\n",
        "\n",
        "        # Geschmackstest - Diagonal nach rechts unten\n",
        "        if zeile < 17 and spalte < 17: # Sicherstellen, dass wir im Raster bleiben (diagonal passen müssen)\n",
        "            produkt = 1 # Produkt zurücksetzen\n",
        "            for i in range(4): # 4 Zahlen multiplizieren\n",
        "                produkt *= zahlen_raster[zeile + i][spalte + i] # Diagonal Zahlen holen und multiplizieren\n",
        "            if produkt > maximaler_geschmackswert: # Highscore-Check\n",
        "                maximaler_geschmackswert = produkt # Highscore aktualisieren\n",
        "\n",
        "        # Geschmackstest - Diagonal nach links unten\n",
        "        if zeile < 17 and spalte > 2: # Sicherstellen, dass wir im Raster bleiben (diagonal passen müssen - andere Richtung)\n",
        "            produkt = 1 # Produkt zurücksetzen\n",
        "            for i in range(4): # 4 Zahlen multiplizieren\n",
        "                produkt *= zahlen_raster[zeile + i][spalte - i] # Diagonal (andere Richtung) Zahlen holen und multiplizieren\n",
        "            if produkt > maximaler_geschmackswert: # Highscore-Check\n",
        "                maximaler_geschmackswert = produkt # Highscore aktualisieren\n",
        "\n",
        "print(\"Der höchste Geschmackswert (Produkt von 4 benachbarten Zahlen) ist:\", maximaler_geschmackswert) # Präsentation des ultimativen Geschmacks-Jackpots!"
      ],
      "metadata": {
        "colab": {
          "base_uri": "https://localhost:8080/"
        },
        "id": "scLmiG5ynQjV",
        "outputId": "0ebbd313-432b-457c-ced6-fda01e92f754"
      },
      "execution_count": null,
      "outputs": [
        {
          "output_type": "stream",
          "name": "stdout",
          "text": [
            "Der höchste Geschmackswert (Produkt von 4 benachbarten Zahlen) ist: 70600674\n"
          ]
        }
      ]
    },
    {
      "cell_type": "markdown",
      "source": [
        "**Extra Herausforderung (für Sterne-Geschmacks-Detektive! 🌟)**\n",
        "\n",
        "Kannst du dein \"Geschmacks-Detektor-Programm\" (deinen Code) noch **verfeinern**?  Unser Programm findet den **maximalen Geschmackswert** von vier benachbarten Zahlen.  Aber was wäre, wenn wir nicht nur vier, sondern vielleicht fünf, sechs oder sogar noch mehr benachbarte Zahlen kombinieren würden?  Erweitere dein Programm so, dass es **variable Längen von Geschmackskombinationen** testen kann!  Vielleicht entdeckst du ja noch intensivere Geschmacks-Explosionen!  Zeig uns deine Meister-Detektiv-Fähigkeiten!"
      ],
      "metadata": {
        "id": "v3a2xBfpnHXV"
      }
    },
    {
      "cell_type": "markdown",
      "source": [
        "# Charlotte's Code Recipes 👩‍🍳 - Mission 012\n",
        "\n",
        "## Mission 012:  Auf der Suche nach dem Schichtkuchen mit den meisten Geschmacks-Schichten! 🍰🎂\n",
        "\n",
        "**Aufgabe**\n",
        "\n",
        "Kennst du schon **Dreieckszahlen**?  Das sind Zahlen, die entstehen, wenn man Zahlen von 1 an der Reihe nach **addiert**, wie beim Bauen eines Schichtkuchens!\n",
        "\n",
        "Zum Beispiel: Die 7. Dreieckszahl ist: 1 + 2 + 3 + 4 + 5 + 6 + 7 = **28**. Stell dir vor, das sind 7 Schichten übereinander!\n",
        "\n",
        "[Image of Ein mehrschichtiger Kuchen (Layer Cake), der aus vielen dünnen Schichten besteht. Vielleicht sind die Schichten unterschiedlich farbig oder unterschiedlich dekoriert, um die Idee der \"Dreieckszahlen\" als wachsende Schichten darzustellen.]\n",
        "\n",
        "Die ersten 10 Dreieckszahlen sind:\n",
        "\n",
        "1, 3, 6, 10, 15, 21, 28, 36, 45, 55,...  Sie werden immer größer, wie ein immer höherer Schichtkuchen!\n",
        "\n",
        "**Jetzt kommt deine Back-Frage:**\n",
        "\n",
        "Welche ist die **erste Dreieckszahl**, die **mehr als 500 Teiler** hat?  Welcher Schichtkuchen hat mehr als 500 Geschmacks-Schichten?\n",
        "\n",
        "**Hinweis-Zutaten 📝**\n",
        "\n",
        "*   **Was sind Teiler nochmal?**  Weißt du noch, was **Teiler** sind?  Teiler einer Zahl sind alle Zahlen, durch die man diese Zahl **ohne Rest teilen** kann.  Stell sie dir vor wie die verschiedenen Geschmacksrichtungen, die einen Kuchen ausmachen.\n",
        "*   **Beispiel Teiler:** Die Teiler von **6** sind: **1, 2, 3, 6** – das sind 4 Teiler.  4 verschiedene Geschmacks-Schichten!\n",
        "*   **Kuchen für Kuchen prüfen:**  Wir müssen die Dreieckszahlen der Reihe nach \"backen\" (berechnen) und dann für jeden Kuchen die Anzahl der \"Geschmacks-Schichten\" (Teiler) herausfinden.\n",
        "\n",
        "**Denkweise - Rezept für den Schichtkuchen mit vielen Geschmacks-Schichten 🧠**\n",
        "\n",
        "1.  **Funktion für Dreieckszahlen \"backen\":**  Schreibe ein kleines \"Back-Rezept\" (eine Funktion), um **Dreieckszahlen zu berechnen**.  Wenn du die \"Schichtnummer\" (z.B. 7. Schicht) eingibst, soll das Rezept die Dreieckszahl (z.B. 28) ausspucken.\n",
        "2.  **Funktion für \"Geschmacks-Schichten\" (Teiler) zählen:**  Schreibe ein weiteres \"Rezept\" (eine Funktion), das die **Anzahl der Teiler** einer Zahl zählt.  Wenn du eine Zahl (z.B. 6) eingibst, soll es dir sagen, wie viele Teiler sie hat (z.B. 4).\n",
        "3.  **Kuchen-Testreihe starten:**  Beginne mit dem 1. Schichtkuchen (1. Dreieckszahl) und teste ihn:  Wie viele \"Geschmacks-Schichten\" hat er?\n",
        "4.  **Schicht für Schicht testen:**  Gehe der Reihe nach die Schichtkuchen durch (2. Dreieckszahl, 3. Dreieckszahl, usw.) und zähle immer die \"Geschmacks-Schichten\".\n",
        "5.  **Super-Schichtkuchen gefunden?:**  Sobald du einen Schichtkuchen findest, der **mehr als 500 \"Geschmacks-Schichten\"** hat, hast du ihn gefunden!  Das ist der erste Dreieckskuchen mit so vielen Teilern –  das ist die Antwort!\n",
        "\n",
        "**Python Lösung (Beispiel) 🐍**"
      ],
      "metadata": {
        "id": "UIDByLv3Nc_D"
      }
    },
    {
      "cell_type": "code",
      "source": [
        "def dreieckszahl_berechnen(n): # Funktion zum \"Backen\" von Dreieckszahlen\n",
        "    return n * (n + 1) // 2 # Formel für die n-te Dreieckszahl\n",
        "\n",
        "def anzahl_teiler_berechnen(zahl): # Funktion zum Zählen der \"Geschmacks-Schichten\" (Teiler)\n",
        "    anzahl = 0 # Zähler für Teiler, startet bei 0\n",
        "    for i in range(1, int(zahl**0.5) + 1): # Nur bis zur Wurzel prüfen, das spart Zeit!\n",
        "        if zahl % i == 0: # Wenn 'i' ein Teiler ist...\n",
        "            anzahl += 2 # ...dann sind 'i' und 'zahl/i' Teiler (meistens zwei verschiedene)\n",
        "            if i * i == zahl: # Achtung bei Quadratzahlen: Wurzel nur einmal zählen\n",
        "                anzahl -= 1 # Wenn 'i' die Wurzel ist, dann nur einmal zählen, nicht doppelt\n",
        "    return anzahl # Anzahl der Teiler zurückgeben\n",
        "\n",
        "n = 1 # Starte beim 1. Schichtkuchen (1. Dreieckszahl)\n",
        "while True: # Endlosschleife, bis wir den Kuchen mit > 500 Schichten finden\n",
        "    dreieckszahl = dreieckszahl_berechnen(n) # Kuchen \"backen\"\n",
        "    teiler_anzahl = anzahl_teiler_berechnen(dreieckszahl) # \"Geschmacks-Schichten\" zählen\n",
        "    if teiler_anzahl > 500: # Super-Schichtkuchen gefunden?\n",
        "        print(f\"Die erste Dreieckszahl mit über 500 Teilern ist die {n}. Dreieckszahl: {dreieckszahl}\") # Ausgabe der Lösung!\n",
        "        print(f\"Sie hat {teiler_anzahl} Teiler.\")\n",
        "        break # Schleife beenden, wir haben den Kuchen!\n",
        "    n += 1 # Zum nächsten Schichtkuchen übergehen (nächste Dreieckszahl)"
      ],
      "metadata": {
        "colab": {
          "base_uri": "https://localhost:8080/"
        },
        "id": "oxfvzffCN68-",
        "outputId": "5f734a59-40eb-46c8-c24b-6383eb1b8cba"
      },
      "execution_count": null,
      "outputs": [
        {
          "output_type": "stream",
          "name": "stdout",
          "text": [
            "Die erste Dreieckszahl mit über 500 Teilern ist die 12375. Dreieckszahl: 76576500\n",
            "Sie hat 576 Teiler.\n"
          ]
        }
      ]
    },
    {
      "cell_type": "markdown",
      "source": [
        "**Extra Herausforderung (für Meister-Konditoren! 🌟)**\n",
        "\n",
        "Kannst du dein \"Rezept\" (deinen Code) noch verfeinern?  Unser Code findet die Lösung, aber vielleicht gibt es ja noch **Tricks**, um das Zählen der \"Geschmacks-Schichten\" (**Teiler**) zu **beschleunigen**?  Denk darüber nach, wie man die **Teileranzahl noch effizienter** berechnen kann!  Zeig uns dein Meister-Konditor-Rezept für super-schnelle Teilerzählung!"
      ],
      "metadata": {
        "id": "3Se7CqxQOUt6"
      }
    },
    {
      "cell_type": "markdown",
      "source": [
        "## プロジェクト013　巨大な算数\n",
        "\n",
        "**問題**\n",
        "\n",
        "大変だ！、50桁の数字が100個も出てきたよ、すべて足し合わせた数の上位10桁をつかまえよう。\n",
        " ####   37107287533902102798797998220837590246510135740250,\n",
        "\n",
        " ####   46376937677490009712648124896970078050417018260538,\n",
        "\n",
        " ####   74324986199524741059474233309513058123726617309629,\n",
        "\n",
        " ####   91942213363574161572522430563301811072406154908250,\n",
        "\n",
        "####    23067588207539346171171980310421047513778063246676,\n",
        "\n",
        "####    89261670696623633820136378418383684178734361726757,\n",
        "\n",
        "####   28112879812849979408065481931592621691275889832738,\n",
        "\n",
        "####    44274228917432520321923589422876796487670272189318,\n",
        "\n",
        "####    47451445736001306439091167216856844588711603153276,\n",
        "\n",
        "####    70386486105843025439939619828917593665686757934951,\n",
        "\n",
        "####    62176457141856560629502157223196586755079324193331,\n",
        "\n",
        "####    64906352462741904929101432445813822663347944758178,\n",
        "\n",
        "####    92575867718337217661963751590579239728245598838407,\n",
        "\n",
        "####    58203565325359399008402633568948830189458628227828,\n",
        "\n",
        "####    80181199384826282014278194139940567587151170094390,\n",
        "\n",
        "####    35398664372827112653829987240784473053190104293586,\n",
        "\n",
        "####    86515506006295864861532075273371959191420517255829,\n",
        "\n",
        "####    71693888707715466499115593487603532921714970056938,\n",
        "\n",
        "####    54370070576826684624621495650076471787294438377604,\n",
        "\n",
        "####    53282654108756828443191190634694037855217779295145,\n",
        "\n",
        "####    36123272525000296071075082563815656710885258350721,\n",
        "\n",
        "####    45876576172410976447339110607218265236877223636045,\n",
        "\n",
        "####    17423706905851860660448207621209813287860733969412,\n",
        "\n",
        "####    81142660418086830619328460811191061556940512689692,\n",
        "\n",
        "####    51934325451728388641918047049293215058642563049483,\n",
        "\n",
        "####    62467221648435076201727918039944693004732956340691,\n",
        "\n",
        "####    15732444386908125794514089057706229429197107928209,\n",
        "\n",
        "####    55037687525678773091862540744969844508330393682126,\n",
        "\n",
        "####    18336384825330154686196124348767681297534375946515,\n",
        "\n",
        "####    80386287592878490201521685554828717201219257766954,\n",
        "\n",
        "####    78182833757993103614740356856449095527097864797581,\n",
        "\n",
        "####    16726320100436897842553539920931837441497806860984,\n",
        "\n",
        "####    48403098129077791799088218795327364475675590848030,\n",
        "\n",
        "####    87086987551392711854517078544161852424320693150332,\n",
        "\n",
        "####    59959406895756536782107074926966537676326235447210,\n",
        "\n",
        "####    69793950679652694742597709739166693763042633987085,\n",
        "\n",
        "####    41052684708299085211399427365734116182760315001271,\n",
        "\n",
        "####    65378607361501080857009149939512557028198746004375,\n",
        "\n",
        "####    35829035317434717326932123578154982629742552737307,\n",
        "\n",
        "####    94953759765105305946966067683156574377167401875275,\n",
        "\n",
        "####    88902802571733229619176668713819931811048770190271,\n",
        "\n",
        "####    25267680276078003013678680992525463401061632866526,\n",
        "\n",
        "####    36270218540497705585629946580636237993140746255962,\n",
        "\n",
        "####    24074486908231174977792365466257246923322810917141,\n",
        "\n",
        "####    91430288197103288597806669760892938638285025333403,\n",
        "\n",
        "####    34413065578016127815921815005561868836468420090470,\n",
        "\n",
        "####    23053081172816430487623791969842487255036638784583,\n",
        "\n",
        "####    11487696932154902810424020138335124462181441773470,\n",
        "\n",
        "####    63783299490636259666498587618221225225512486764533,\n",
        "\n",
        "####    67720186971698544312419572409913959008952310058822,\n",
        "\n",
        "####    95548255300263520781532296796249481641953868218774,\n",
        "\n",
        "####    76085327132285723110424803456124867697064507995236,\n",
        "\n",
        "####    37774242535411291684276865538926205024910326572967,\n",
        "\n",
        "####    23701913275725675285653248258265463092207058596522,\n",
        "\n",
        "####    29798860272258331913126375147341994889534765745501,\n",
        "\n",
        "####    18495701454879288984856827726077713721403798879715,\n",
        "\n",
        "####    38298203783031473527721580348144513491373226651381,\n",
        "\n",
        "####    34829543829199918180278916522431027392251122869539,\n",
        "\n",
        "####    40957953066405232632538044100059654939159879593635,\n",
        "\n",
        "####    29746152185502371307642255121183693803580388584903,\n",
        "\n",
        "####    41698116222072977186158236678424689157993532961922,\n",
        "\n",
        "####    62467957194401269043877107275048102390895523597457,\n",
        "\n",
        "####    23189706772547915061505504953922979530901129967519,\n",
        "\n",
        "####    86188088225875314529584099251203829009407770775672,\n",
        "\n",
        "####    11306739708304724483816533873502340845647058077308,\n",
        "\n",
        "####    82959174767140363198008187129011875491310547126581,\n",
        "\n",
        "####    97623331044818386269515456334926366572897563400500,\n",
        "\n",
        "####    42846280183517070527831839425882145521227251250327,\n",
        "\n",
        "####    55121603546981200581762165212827652751691296897789,\n",
        "\n",
        "####    32238195734329339946437501907836945765883352399886,\n",
        "\n",
        "####    75506164965184775180738168837861091527357929701337,\n",
        "\n",
        "####    62177842752192623401942399639168044983993173312731,\n",
        "\n",
        "####    32924185707147349566916674687634660915035914677504,\n",
        "\n",
        "####    99518671430235219628894890102423325116913619626622,\n",
        "\n",
        "####    73267460800591547471830798392868535206946944540724,\n",
        "\n",
        "####    76841822524674417161514036427982273348055556214818,\n",
        "\n",
        "####    97142617910342598647204516893989422179826088076852,\n",
        "\n",
        "####    87783646182799346313767754307809363333018982642090,\n",
        "\n",
        "####    10848802521674670883215120185883543223812876952786,\n",
        "\n",
        "####    71329612474782464538636993009049310363619763878039,\n",
        "\n",
        "####    62184073572399794223406235393808339651327408011116,\n",
        "\n",
        "####    66627891981488087797941876876144230030984490851411,\n",
        "\n",
        "####    60661826293682836764744779239180335110989069790714,\n",
        "\n",
        "####    85786944089552990653640447425576083659976645795096,\n",
        "\n",
        "####    66024396409905389607120198219976047599490197230297,\n",
        "\n",
        "####    64913982680032973156037120041377903785566085089252,\n",
        "\n",
        "####    16730939319872750275468906903707539413042652315011,\n",
        "\n",
        "####    94809377245048795150954100921645863754710598436791,\n",
        "\n",
        "####    78639167021187492431995700641917969777599028300699,\n",
        "\n",
        "####    15368713711936614952811305876380278410754449733078,\n",
        "\n",
        "####    40789923115535562561142322423255033685442488917353,\n",
        "\n",
        "####    44889911501440648020369068063960672322193204149535,\n",
        "\n",
        "####    41503128880339536053299340368006977710650566631954,\n",
        "\n",
        "####    81234880673210146739058568557934581403627822703280,\n",
        "\n",
        "####    82616570773948327592232845941706525094512325230608,\n",
        "\n",
        "####    22918802058777319719839450180888072429661980811197,\n",
        "\n",
        "####    77158542502016545090413245809786882778948721859617,\n",
        "\n",
        "####    72107838435069186155435662884062257473692284509516,\n",
        "\n",
        "####    20849603980134001723930671666823555245252804609722,\n",
        "    \n",
        "####    53503534226472524250874054075591789781264330331690\n",
        "\n",
        "**考え方**\n",
        "\n",
        "1. 100個の50桁の数字をすべて足し合わせます。\n",
        "2. 足し合わせた結果の数字の上位10桁を求めます。\n",
        "\n",
        "**コード例 (Python)**"
      ],
      "metadata": {
        "id": "JZBtvyQzOckT"
      }
    },
    {
      "cell_type": "code",
      "source": [
        "# 50桁の数字100個\n",
        "numbers = [\n",
        "    37107287533902102798797998220837590246510135740250,\n",
        "    46376937677490009712648124896970078050417018260538,\n",
        "    74324986199524741059474233309513058123726617309629,\n",
        "    91942213363574161572522430563301811072406154908250,\n",
        "    23067588207539346171171980310421047513778063246676,\n",
        "    89261670696623633820136378418383684178734361726757,\n",
        "    28112879812849979408065481931592621691275889832738,\n",
        "    44274228917432520321923589422876796487670272189318,\n",
        "    47451445736001306439091167216856844588711603153276,\n",
        "    70386486105843025439939619828917593665686757934951,\n",
        "    62176457141856560629502157223196586755079324193331,\n",
        "    64906352462741904929101432445813822663347944758178,\n",
        "    92575867718337217661963751590579239728245598838407,\n",
        "    58203565325359399008402633568948830189458628227828,\n",
        "    80181199384826282014278194139940567587151170094390,\n",
        "    35398664372827112653829987240784473053190104293586,\n",
        "    86515506006295864861532075273371959191420517255829,\n",
        "    71693888707715466499115593487603532921714970056938,\n",
        "    54370070576826684624621495650076471787294438377604,\n",
        "    53282654108756828443191190634694037855217779295145,\n",
        "    36123272525000296071075082563815656710885258350721,\n",
        "    45876576172410976447339110607218265236877223636045,\n",
        "    17423706905851860660448207621209813287860733969412,\n",
        "    81142660418086830619328460811191061556940512689692,\n",
        "    51934325451728388641918047049293215058642563049483,\n",
        "    62467221648435076201727918039944693004732956340691,\n",
        "    15732444386908125794514089057706229429197107928209,\n",
        "    55037687525678773091862540744969844508330393682126,\n",
        "    18336384825330154686196124348767681297534375946515,\n",
        "    80386287592878490201521685554828717201219257766954,\n",
        "    78182833757993103614740356856449095527097864797581,\n",
        "    16726320100436897842553539920931837441497806860984,\n",
        "    48403098129077791799088218795327364475675590848030,\n",
        "    87086987551392711854517078544161852424320693150332,\n",
        "    59959406895756536782107074926966537676326235447210,\n",
        "    69793950679652694742597709739166693763042633987085,\n",
        "    41052684708299085211399427365734116182760315001271,\n",
        "    65378607361501080857009149939512557028198746004375,\n",
        "    35829035317434717326932123578154982629742552737307,\n",
        "    94953759765105305946966067683156574377167401875275,\n",
        "    88902802571733229619176668713819931811048770190271,\n",
        "    25267680276078003013678680992525463401061632866526,\n",
        "    36270218540497705585629946580636237993140746255962,\n",
        "    24074486908231174977792365466257246923322810917141,\n",
        "    91430288197103288597806669760892938638285025333403,\n",
        "    34413065578016127815921815005561868836468420090470,\n",
        "    23053081172816430487623791969842487255036638784583,\n",
        "    11487696932154902810424020138335124462181441773470,\n",
        "    63783299490636259666498587618221225225512486764533,\n",
        "    67720186971698544312419572409913959008952310058822,\n",
        "    95548255300263520781532296796249481641953868218774,\n",
        "    76085327132285723110424803456124867697064507995236,\n",
        "    37774242535411291684276865538926205024910326572967,\n",
        "    23701913275725675285653248258265463092207058596522,\n",
        "    29798860272258331913126375147341994889534765745501,\n",
        "    18495701454879288984856827726077713721403798879715,\n",
        "    38298203783031473527721580348144513491373226651381,\n",
        "    34829543829199918180278916522431027392251122869539,\n",
        "    40957953066405232632538044100059654939159879593635,\n",
        "    29746152185502371307642255121183693803580388584903,\n",
        "    41698116222072977186158236678424689157993532961922,\n",
        "    62467957194401269043877107275048102390895523597457,\n",
        "    23189706772547915061505504953922979530901129967519,\n",
        "    86188088225875314529584099251203829009407770775672,\n",
        "    11306739708304724483816533873502340845647058077308,\n",
        "    82959174767140363198008187129011875491310547126581,\n",
        "    97623331044818386269515456334926366572897563400500,\n",
        "    42846280183517070527831839425882145521227251250327,\n",
        "    55121603546981200581762165212827652751691296897789,\n",
        "    32238195734329339946437501907836945765883352399886,\n",
        "    75506164965184775180738168837861091527357929701337,\n",
        "    62177842752192623401942399639168044983993173312731,\n",
        "    32924185707147349566916674687634660915035914677504,\n",
        "    99518671430235219628894890102423325116913619626622,\n",
        "    73267460800591547471830798392868535206946944540724,\n",
        "    76841822524674417161514036427982273348055556214818,\n",
        "    97142617910342598647204516893989422179826088076852,\n",
        "    87783646182799346313767754307809363333018982642090,\n",
        "    10848802521674670883215120185883543223812876952786,\n",
        "    71329612474782464538636993009049310363619763878039,\n",
        "    62184073572399794223406235393808339651327408011116,\n",
        "    66627891981488087797941876876144230030984490851411,\n",
        "    60661826293682836764744779239180335110989069790714,\n",
        "    85786944089552990653640447425576083659976645795096,\n",
        "    66024396409905389607120198219976047599490197230297,\n",
        "    64913982680032973156037120041377903785566085089252,\n",
        "    16730939319872750275468906903707539413042652315011,\n",
        "    94809377245048795150954100921645863754710598436791,\n",
        "    78639167021187492431995700641917969777599028300699,\n",
        "    15368713711936614952811305876380278410754449733078,\n",
        "    40789923115535562561142322423255033685442488917353,\n",
        "    44889911501440648020369068063960672322193204149535,\n",
        "    41503128880339536053299340368006977710650566631954,\n",
        "    81234880673210146739058568557934581403627822703280,\n",
        "    82616570773948327592232845941706525094512325230608,\n",
        "    22918802058777319719839450180888072429661980811197,\n",
        "    77158542502016545090413245809786882778948721859617,\n",
        "    72107838435069186155435662884062257473692284509516,\n",
        "    20849603980134001723930671666823555245252804609722,\n",
        "    53503534226472524250874054075591789781264330331690,\n",
        "]\n",
        "\n",
        "# 合計を計算\n",
        "total = sum(numbers)\n",
        "\n",
        "# 上位10桁を求める\n",
        "top_10_digits = str(total)[:10]\n",
        "\n",
        "# 結果を表示\n",
        "print(f\"合計の上位10桁: {top_10_digits}\")"
      ],
      "metadata": {
        "colab": {
          "base_uri": "https://localhost:8080/"
        },
        "id": "5JlLplw_O9kF",
        "outputId": "3eda0cae-883f-4a85-cabf-7bec84fe26c6"
      },
      "execution_count": null,
      "outputs": [
        {
          "output_type": "stream",
          "name": "stdout",
          "text": [
            "合計の上位10桁: 5537376230\n"
          ]
        }
      ]
    },
    {
      "cell_type": "markdown",
      "source": [
        "**解説**\n",
        "\n",
        "* `collatz_sequence_length` 関数は、n から始まるコラッツ数列の長さを計算します。\n",
        "* `longest_collatz_sequence` 関数は、`limit` 未満の数値で、最長のコラッツ数列を生成する数値と、その長さを計算します。\n",
        "* `for i in range(1, limit):` は、1 から `limit - 1` までの数字をループで処理します。\n",
        "* `if length > max_length:` は、現在の `length` が `max_length` より大きければ、`max_length` と `max_number` を更新します。\n",
        "\n",
        "**まとめ**\n",
        "\n",
        "この問題では、100万未満の数字の中で、どの数字から始めれば最長の数列を生成するのかを調べました。"
      ],
      "metadata": {
        "id": "J0-THE80XFbO"
      }
    },
    {
      "cell_type": "markdown",
      "source": [
        "## プロジェクト014　コラッツ問題に挑戦！ 100万未満で一番長い数列を作る数字を見つけよう！\n",
        "\n",
        "**問題**\n",
        "\n",
        "ある数字からスタートして、次のルールでどんどん数字を変えていくゲームをします。\n",
        "\n",
        "* **もし数字が偶数なら**: その数字を2で割ります。\n",
        "* **もし数字が奇数なら**: その数字を3倍して1足します。\n",
        "\n",
        "例えば、13からスタートすると、\n",
        "\n",
        "13 → 40 → 20 → 10 → 5 → 16 → 8 → 4 → 2 → 1\n",
        "\n",
        "のように数字が変わっていって、10回目に1になります。\n",
        "\n",
        "このゲームをいろいろな数字で試して、1になるまで何回数字を変える必要があるか数えてみましょう。\n",
        "\n",
        "**問題**: 100万より小さい数字の中で、1になるまでに一番たくさん数字を変える必要があるのはどの数字でしょうか？\n",
        "\n",
        "**ヒント**: 100万より大きい数字を使っても大丈夫です。\n",
        "\n",
        "**解説**\n",
        "\n",
        "このゲームは、13のように途中で大きな数字が出てきても、最後は必ず1になる（かもしれない！）という不思議なものです。\n",
        "\n",
        "100万より小さい数字を一つずつ試して、どの数字が一番たくさん数字を変える必要があるか調べるのは大変です。\n",
        "\n",
        "でも、コンピューターを使えば、たくさんの数字を簡単に試すことができます。\n",
        "\n",
        "**Python コード例**\n"
      ],
      "metadata": {
        "id": "SR0iAzO0xyb9"
      }
    },
    {
      "cell_type": "code",
      "source": [
        "def collatz_length(n):\n",
        "    length = 1\n",
        "    while n != 1:\n",
        "        if n % 2 == 0:\n",
        "            n = n // 2\n",
        "        else:\n",
        "            n = 3 * n + 1\n",
        "        length += 1\n",
        "    return length\n",
        "\n",
        "max_length = 0\n",
        "start_number = 0\n",
        "\n",
        "for i in range(1, 1000000):\n",
        "    length = collatz_length(i)\n",
        "    if length > max_length:\n",
        "        max_length = length\n",
        "        start_number = i\n",
        "\n",
        "print(f\"一番長い数列を作る数字は {start_number} で、長さは {max_length} です。\")"
      ],
      "metadata": {
        "colab": {
          "base_uri": "https://localhost:8080/"
        },
        "id": "bMLLnQv9xzBl",
        "outputId": "5ed12b04-7b51-4b0e-a475-77a05fad8e06"
      },
      "execution_count": null,
      "outputs": [
        {
          "output_type": "stream",
          "name": "stdout",
          "text": [
            "一番長い数列を作る数字は 837799 で、長さは 525 です。\n"
          ]
        }
      ]
    },
    {
      "cell_type": "markdown",
      "source": [
        "**コードの説明**\n",
        "\n",
        "1.  **`collatz_length(n)`**: この関数は、ある数字`n`から始めて1になるまで何回数字を変える必要があるか計算します。\n",
        "2.  **`max_length = 0`と`start_number = 0`**: 一番長い数列の長さを記録する`max_length`と、その時のスタート数字を記録する`start_number`を用意します。\n",
        "3.  **`for i in range(1, 1000000)`**: 1から999999までの数字を順番に試します。\n",
        "4.  **`length = collatz_length(i)`**: `i`から始まる数列の長さを計算します。\n",
        "5.  **`if length > max_length:`**: もし今回の数列の長さが今までで一番長ければ、`max_length`と`start_number`を更新します。\n",
        "6.  **`print(...)`**: 最後に、一番長い数列を作った数字とその長さを表示します。\n",
        "\n",
        "**まとめ**\n",
        "\n",
        "この問題は、コラッツ問題というとても有名な未解決問題の一部です。\n",
        "\n",
        "100万より小さい数字の中で、どの数字から始めると一番長い数列を作れるか、コンピューターを使って調べました。\n",
        "\n",
        "この問題を通して、不思議な数字のゲームや、コンピューターを使って問題を解決する方法を学びました。"
      ],
      "metadata": {
        "id": "Sujoe82Hx3sv"
      }
    },
    {
      "cell_type": "markdown",
      "source": [
        "## プロジェクト015　マス目パズルに挑戦！ 20×20マスで右下まで行く方法をPythonで数えてみよう！\n",
        "\n",
        "**問題**:\n",
        "\n",
        "2×2 の小さなマス目（□□\n",
        "                  □□）の左上からスタートして、**右**か**下**にしか進めないルールで右下まで行く方法は何通りあるかな？\n",
        "\n",
        "**答え**: 6通り！ 実際に線を引いて数えてみよう！\n",
        "\n",
        "では、同じルールで20×20 の大きなマス目（□がいっぱい！）の場合はどうなるかな？\n",
        "\n",
        "**解説**:\n",
        "\n",
        "2×2マスの場合、6通りしかないから数えることができたよね。\n",
        "でも、20×20マスになると、数が多すぎて数えるのは大変！そこで、頭のいい方法を考えよう！\n",
        "\n",
        "**考え方**:\n",
        "\n",
        "* 20×20マスで右下に行くためには、**右に20回**、**下に20回**進む必要がある。\n",
        "* 順番はバラバラでも良いけど、**合計40回**動くことは決まっている。\n",
        "* つまり、40回のうち**20回は右**、**20回は下**を選ぶことになる。\n",
        "\n",
        "**賢い数え方**:\n",
        "\n",
        "これは、算数で習う「組み合わせ」という考え方を使うと簡単に数えることができるよ！\n",
        "\n",
        "40個のマス目があって、そのうち20個に「右」と書く。残りの20個には自動的に「下」と書かれる。\n",
        "つまり、40個の中から20個を選ぶ組み合わせの数を計算すれば良いんだ。\n",
        "\n",
        "**Python コード例**"
      ],
      "metadata": {
        "id": "ZksotH01ygEQ"
      }
    },
    {
      "cell_type": "code",
      "source": [
        "import math\n",
        "\n",
        "def calculate_routes(grid_size):\n",
        "  \"\"\"\n",
        "  grid_size x grid_size のマス目で右下に行くルートの数を計算する関数\n",
        "  \"\"\"\n",
        "  total_moves = grid_size * 2  # 右と下にgrid_size回ずつ動く\n",
        "  right_moves = grid_size  # 右にgrid_size回動く\n",
        "  # 組み合わせの数を計算 (nCr = n! / (r! * (n-r)!))\n",
        "  routes = math.comb(total_moves, right_moves)\n",
        "  return routes\n",
        "\n",
        "grid_size = 20  # 20x20 のマス目\n",
        "routes = calculate_routes(grid_size)\n",
        "print(f\"{grid_size}x{grid_size} のマス目で右下に行くルートは {routes} 通りです。\")"
      ],
      "metadata": {
        "colab": {
          "base_uri": "https://localhost:8080/"
        },
        "id": "7PFpS3iHygnX",
        "outputId": "20d2d84f-e15a-41d4-8d1c-9e58f1e79bef"
      },
      "execution_count": null,
      "outputs": [
        {
          "output_type": "stream",
          "name": "stdout",
          "text": [
            "20x20 のマス目で右下に行くルートは 137846528820 通りです。\n"
          ]
        }
      ]
    },
    {
      "cell_type": "markdown",
      "source": [
        "**コードの説明**:\n",
        "\n",
        "1.  **`import math`**: 数学の関数を使うためにmathモジュールを読み込む\n",
        "2.  **`calculate_routes(grid_size)`**: マス目のサイズを受け取り、ルートの数を計算する関数\n",
        "3.  **`total_moves = grid_size * 2`**: 右と下にgrid\\_size回ずつ動くので、合計の動き数を計算\n",
        "4.  **`right_moves = grid_size`**: 右に動く回数\n",
        "5.  **`routes = math.comb(total_moves, right_moves)`**: 組み合わせの数を計算 (math.comb()を使うと階乗を使わずに組み合わせの数を計算できる)\n",
        "6.  **`grid_size = 20`**: 20x20のマス目を指定\n",
        "7.  **`routes = calculate_routes(grid_size)`**: 関数を呼び出してルートの数を計算\n",
        "8.  **`print(...)`**: 結果を表示\n",
        "\n",
        "**まとめ**:\n",
        "\n",
        "20×20マスの左上から右下まで、右か下にしか進めないで行く方法は、とてもたくさんの数があることが分かったね。\n",
        "数えるのは大変だけど、組み合わせという算数の便利な考え方とPythonを使えば、簡単に計算できるんだ。"
      ],
      "metadata": {
        "id": "tOU5ittOzMuh"
      }
    },
    {
      "cell_type": "markdown",
      "source": [
        "## プロジェクト016　2の1000乗の各位の数字の和をPythonで求める\n",
        "\n",
        "**問題:**\n",
        "\n",
        "2を1000回かけ合わせると、とても大きな数になります。\n",
        "その数のそれぞれの桁の数字を全部足すと、いくつになるでしょうか？\n",
        "\n",
        "**例:**\n",
        "\n",
        "2の5乗は32768です。\n",
        "3 + 2 + 7 + 6 + 8 = 26\n",
        "つまり、2の5乗の各位の数字の和は26です。\n",
        "\n",
        "**解説:**\n",
        "\n",
        "2を1000回かけるなんて、想像もできないくらい大きな数だよね。\n",
        "でも、Pythonを使えば、そんな大きな数も簡単に計算できるんだ。\n",
        "\n",
        "**Python コード例**"
      ],
      "metadata": {
        "id": "hOI4mMiw07Im"
      }
    },
    {
      "cell_type": "code",
      "source": [
        "# 2の1000乗を計算\n",
        "big_number = 2**1000\n",
        "\n",
        "# 各桁の数字の和を計算\n",
        "sum_of_digits = 0\n",
        "for digit in str(big_number):  # 数字を文字列に変換して、1桁ずつ取り出す\n",
        "    sum_of_digits += int(digit)  # 各桁の数字を整数に変換して足す\n",
        "\n",
        "# 結果を表示\n",
        "print(f\"2の1000乗は {big_number} です。\")\n",
        "print(f\"各位の数字の和は {sum_of_digits} です。\")"
      ],
      "metadata": {
        "colab": {
          "base_uri": "https://localhost:8080/"
        },
        "id": "cLFl3r0s07mF",
        "outputId": "0a9e0d28-97c4-4fc5-ad33-c080644973d4"
      },
      "execution_count": null,
      "outputs": [
        {
          "output_type": "stream",
          "name": "stdout",
          "text": [
            "2の1000乗は 10715086071862673209484250490600018105614048117055336074437503883703510511249361224931983788156958581275946729175531468251871452856923140435984577574698574803934567774824230985421074605062371141877954182153046474983581941267398767559165543946077062914571196477686542167660429831652624386837205668069376 です。\n",
            "各位の数字の和は 1366 です。\n"
          ]
        }
      ]
    },
    {
      "cell_type": "markdown",
      "source": [
        "**コードの説明:**\n",
        "\n",
        "1.  **`big_number = 2**1000`**: 2の1000乗を計算して、`big_number`という変数に保存します。\n",
        "2.  **`sum_of_digits = 0`**: 各桁の数字の和を保存する`sum_of_digits`という変数を0で初期化します。\n",
        "3.  **`for digit in str(big_number):`**: `big_number`を文字列に変換し、1桁ずつ`digit`という変数に取り出して、以下の処理を繰り返します。\n",
        "4.  **`sum_of_digits += int(digit)`**: `digit`は文字列なので、`int()`を使って整数に変換し、`sum_of_digits`に足します。\n",
        "5.  **`print(...)`**: 最後に、計算結果を表示します。\n",
        "\n",
        "**まとめ:**\n",
        "\n",
        "2の1000乗はとても大きな数ですが、Pythonを使えば簡単に計算できます。\n",
        "また、文字列として扱えば、各桁の数字を簡単に取り出すことができます。\n",
        "このコードを実行すると、2の1000乗とその各位の数字の和が表示されます。"
      ],
      "metadata": {
        "id": "HSOafRk11MJ3"
      }
    },
    {
      "cell_type": "markdown",
      "source": [
        "## プロジェクト017　1から1000までの数字を英語で書くと何文字？ Pythonで数えてみよう！\n",
        "\n",
        "**問題:**\n",
        "\n",
        "1から5までの数字を英語で書くと、\n",
        "\n",
        "* one (3文字)\n",
        "* two (3文字)\n",
        "* three (5文字)\n",
        "* four (4文字)\n",
        "* five (4文字)\n",
        "\n",
        "となり、全部で3 + 3 + 5 + 4 + 4 = 19文字になります。\n",
        "\n",
        "同じように、1から1000までの数字を全部英語で書くと、全部で何文字になるでしょうか？\n",
        "\n",
        "**注意:**\n",
        "\n",
        "* 空白やハイフンは数えません。例えば、\"three hundred and forty-two\"は23文字、\"one hundred and fifteen\"は20文字と数えます。\n",
        "\n",
        "**解説:**\n",
        "\n",
        "1から1000までの数字を一つずつ英語で書いて数えるのは大変だよね。\n",
        "でも、Pythonを使えば、簡単に数えることができるんだ。\n",
        "\n",
        "**Python コード例**"
      ],
      "metadata": {
        "id": "_NgntZ-jdpMd"
      }
    },
    {
      "cell_type": "code",
      "source": [
        "units = [\"\", \"one\", \"two\", \"three\", \"four\", \"five\", \"six\", \"seven\", \"eight\", \"nine\"]\n",
        "teens = [\"ten\", \"eleven\", \"twelve\", \"thirteen\", \"fourteen\", \"fifteen\", \"sixteen\", \"seventeen\", \"eighteen\", \"nineteen\"]\n",
        "tens = [\"\", \"\", \"twenty\", \"thirty\", \"forty\", \"fifty\", \"sixty\", \"seventy\", \"eighty\", \"ninety\"]\n",
        "hundred = \"hundred\"\n",
        "_and = \"and\"\n",
        "thousand = \"thousand\"\n",
        "\n",
        "def count_letters(n):\n",
        "    if n < 10:\n",
        "        return len(units[n])\n",
        "    elif n < 20:\n",
        "        return len(teens[n - 10])\n",
        "    elif n < 100:\n",
        "        return len(tens[n // 10]) + len(units[n % 10])\n",
        "    elif n < 1000:\n",
        "        count = len(units[n // 100]) + len(hundred)\n",
        "        if n % 100 != 0:\n",
        "            count += len(_and) + count_letters(n % 100)\n",
        "        return count\n",
        "    elif n == 1000:\n",
        "        return len(units[1]) + len(thousand)\n",
        "\n",
        "total_count = 0\n",
        "for i in range(1, 1001):\n",
        "    total_count += count_letters(i)\n",
        "\n",
        "print(f\"1から1000までの数字を英語で書くと、全部で{total_count}文字になります。\")"
      ],
      "metadata": {
        "colab": {
          "base_uri": "https://localhost:8080/"
        },
        "id": "9ZozE8kLdp0U",
        "outputId": "50ec1295-50b0-4561-8af3-31e0c552ed7e"
      },
      "execution_count": null,
      "outputs": [
        {
          "output_type": "stream",
          "name": "stdout",
          "text": [
            "1から1000までの数字を英語で書くと、全部で21124文字になります。\n"
          ]
        }
      ]
    },
    {
      "cell_type": "markdown",
      "source": [
        "**コードの説明:**\n",
        "\n",
        "1.  **`units`, `teens`, `tens`**: 1桁の数字、10代の数字、10の位の数字を英語で書いた単語のリスト\n",
        "2.  **`hundred`, `_and`, `thousand`**: \"hundred\", \"and\", \"thousand\"という単語\n",
        "3.  **`count_letters(n)`**: 数字`n`を英語で書いた時の文字数を数える関数\n",
        "    *   `n`が1桁の場合: `units`リストを使って文字数を数える\n",
        "    *   `n`が10代の場合: `teens`リストを使って文字数を数える\n",
        "    *   `n`が100未満の場合: `tens`リストと`units`リストを使って文字数を数える\n",
        "    *   `n`が1000未満の場合: \"hundred\"と\"and\"を使って文字数を数える\n",
        "    *   `n`が1000の場合: \"one\"と\"thousand\"を使って文字数を数える\n",
        "4.  **`total_count = 0`**: 合計文字数を保存する変数\n",
        "5.  **`for i in range(1, 1001):`**: 1から1000までの数字を順番に処理\n",
        "6.  **`total_count += count_letters(i)`**: 各数字の文字数を合計していく\n",
        "7.  **`print(...)`**: 最後に、合計文字数を表示\n",
        "\n",
        "**まとめ:**\n",
        "\n",
        "このコードを実行すると、1から1000までの数字を英語で書いた時の合計文字数が表示されます。\n",
        "Pythonを使うと、このような複雑な問題も簡単に解決できるね。"
      ],
      "metadata": {
        "id": "zkb1Z9nQd-jV"
      }
    },
    {
      "cell_type": "markdown",
      "source": [
        "## プロジェクト018　三角形ピラミッドの宝探しゲーム！ 一番大きな宝物を見つけよう！\n",
        "\n",
        "**問題:**\n",
        "\n",
        "ピラミッドの中に宝物（数字）が隠されているよ！ 一番上からスタートして、下の段にある**左右どちらかの宝物**を選びながら、一番下まで進むんだ。\n",
        "最後に手に入れた宝物の合計が**一番大きくなるように**するには、どうしたら良いかな？\n",
        "\n",
        "```\n",
        "              75\n",
        "             95 64\n",
        "            17 47 82\n",
        "           18 35 87 10\n",
        "          20 04 82 47 65\n",
        "         19 01 23 75 03 34\n",
        "        88 02 77 73 07 63 67\n",
        "       99 65 04 28 06 16 70 92\n",
        "      41 41 26 56 83 40 80 70 33\n",
        "     41 48 72 33 47 32 37 16 94 29\n",
        "    53 71 44 65 25 43 91 52 97 51 14\n",
        "   70 11 33 28 77 73 17 78 39 68 17 57\n",
        "  91 71 52 38 17 14 91 43 58 50 27 29 48\n",
        " 63 66 04 68 89 53 67 30 73 16 69 87 40 31\n",
        "04 62 98 27 23 09 70 98 73 93 38 53 60 04 23\n",
        "```\n",
        "\n",
        "**解説:**\n",
        "\n",
        "まるで宝探しゲームみたいだね！\n",
        "でも、宝物（数字）がたくさんあって、全部のルートを試すのは大変そう…。\n",
        "そこで、頭のいい方法を考えよう！\n",
        "\n",
        "**考え方:**\n",
        "\n",
        "各段で**一番大きな数字**を選べば良いんじゃないかな？\n",
        "…残念ながら、それは間違い！\n",
        "途中で小さな数字を選んでしまっても、後で大きな数字を選べば、合計が大きくなる可能性があるんだ。\n",
        "\n",
        "**賢い方法:**\n",
        "\n",
        "下から順番に、**それぞれの場所で一番大きな合計**を計算していくと、一番上までたどり着いた時に、**一番大きな合計**がわかるんだ！\n",
        "\n",
        "**Python コード例**"
      ],
      "metadata": {
        "id": "bYS6Uxo7g_j9"
      }
    },
    {
      "cell_type": "code",
      "source": [
        "triangle = \"\"\"\n",
        "75\n",
        "95 64\n",
        "17 47 82\n",
        "18 35 87 10\n",
        "20 04 82 47 65\n",
        "19 01 23 75 03 34\n",
        "88 02 77 73 07 63 67\n",
        "99 65 04 28 06 16 70 92\n",
        "41 41 26 56 83 40 80 70 33\n",
        "41 48 72 33 47 32 37 16 94 29\n",
        "53 71 44 65 25 43 91 52 97 51 14\n",
        "70 11 33 28 77 73 17 78 39 68 17 57\n",
        "91 71 52 38 17 14 91 43 58 50 27 29 48\n",
        "63 66 04 68 89 53 67 30 73 16 69 87 40 31\n",
        "04 62 98 27 23 09 70 98 73 93 38 53 60 04 23\n",
        "\"\"\"\n",
        "\n",
        "# 三角形をリストに変換\n",
        "rows = triangle.strip().split(\"\\n\")\n",
        "triangle_list = []\n",
        "for row in rows:\n",
        "    triangle_list.append([int(x) for x in row.split()])\n",
        "\n",
        "# 下から上に計算\n",
        "for i in range(len(triangle_list) - 2, -1, -1):\n",
        "    for j in range(len(triangle_list[i])):\n",
        "        triangle_list[i][j] += max(triangle_list[i+1][j], triangle_list[i+1][j+1])\n",
        "\n",
        "# 一番上の数字が最大の合計\n",
        "print(f\"最大の合計は {triangle_list[0][0]} です。\")\n"
      ],
      "metadata": {
        "colab": {
          "base_uri": "https://localhost:8080/"
        },
        "id": "pT_aAx2vhABV",
        "outputId": "ede9a92b-8ffb-4d7d-8a69-b09d02be6981"
      },
      "execution_count": null,
      "outputs": [
        {
          "output_type": "stream",
          "name": "stdout",
          "text": [
            "最大の合計は 1074 です。\n"
          ]
        }
      ]
    },
    {
      "cell_type": "markdown",
      "source": [
        "**コードの説明:**\n",
        "\n",
        "1.  **`triangle`**: ピラミッドの数字を文字列として保存\n",
        "2.  **`rows = triangle.strip().split(\"\\n\")`**: 文字列を改行で区切り、各行をリストにする\n",
        "3.  **`triangle_list = [] ...`**: 各行の数字を整数に変換し、2次元リストにする\n",
        "4.  **`for i in range(len(triangle_list) - 2, -1, -1):`**: 下から2番目の段から一番上の段まで、逆順に計算\n",
        "5.  **`for j in range(len(triangle_list[i])): `**: 各段の数字を左から右に計算\n",
        "6.  **`triangle_list[i][j] += max(...)`**: 下の段の2つの数字のうち大きい方を足す\n",
        "7.  **`print(...)`**: 一番上の数字（最大の合計）を表示\n",
        "\n",
        "**まとめ:**\n",
        "\n",
        "このコードを実行すると、ピラミッドの頂点から下まで移動する時に、一番大きな合計が表示されるよ。\n",
        "Pythonを使うと、このような複雑な計算も簡単にできるね！"
      ],
      "metadata": {
        "id": "O_0JT_xYiBHt"
      }
    },
    {
      "cell_type": "markdown",
      "source": [
        "## プロジェクト019　20世紀に「1日の日曜日」は何回ある？ Pythonで数えてみよう！\n",
        "\n",
        "**問題:**\n",
        "\n",
        "1900年1月1日は月曜日でした。\n",
        "次のルールを使って、20世紀（1901年1月1日から2000年12月31日）の間に、月の初め（1日）が日曜日になる日が何回あるか数えましょう。\n",
        "\n",
        "*   9月, 4月, 6月, 11月は30日まで\n",
        "*   2月以外の月は31日まで\n",
        "*   2月は28日まで。ただし、うるう年のときは29日\n",
        "*   うるう年は、\n",
        "    *   4で割り切れる年\n",
        "    *   ただし、100で割り切れて400で割り切れない年はうるう年**ではない**\n",
        "\n",
        "**解説:**\n",
        "\n",
        "1900年1月1日が月曜日ってことは、1900年1月7日が最初の日曜日だね！\n",
        "そこから1週間ずつ足していけば、日曜日がいつになるかわかるね。\n",
        "でも、20世紀は100年もあるから、全部数えるのは大変…。\n",
        "そこで、Pythonの出番！\n",
        "\n",
        "**Python コード例**"
      ],
      "metadata": {
        "id": "8TceKJlui2iV"
      }
    },
    {
      "cell_type": "code",
      "source": [
        "def is_leap_year(year):\n",
        "    return (year % 4 == 0 and year % 100 != 0) or year % 400 == 0\n",
        "\n",
        "days_in_month = [\n",
        "    0, 31, 28, 31, 30, 31, 30, 31, 31, 30, 31, 30, 31\n",
        "]\n",
        "\n",
        "def count_sunday_firsts():\n",
        "    year = 1901\n",
        "    month = 1\n",
        "    day_of_week = 2  # 1900年1月1日は月曜日 (0:月, 1:火,... 6:日)\n",
        "    sunday_firsts = 0\n",
        "\n",
        "    while year <= 2000:\n",
        "        if day_of_week == 6:  # 日曜日なら\n",
        "            sunday_firsts += 1\n",
        "\n",
        "        days_in_current_month = days_in_month[month]\n",
        "        if month == 2 and is_leap_year(year):\n",
        "            days_in_current_month = 29\n",
        "\n",
        "        day_of_week = (day_of_week + days_in_current_month) % 7 # 曜日を更新\n",
        "\n",
        "        month += 1\n",
        "        if month > 12:\n",
        "            month = 1\n",
        "            year += 1\n",
        "\n",
        "    return sunday_firsts\n",
        "\n",
        "result = count_sunday_firsts()\n",
        "print(f\"20世紀中に月の初めが日曜日になるのは {result} 回です。\")"
      ],
      "metadata": {
        "colab": {
          "base_uri": "https://localhost:8080/"
        },
        "id": "SIG-J3POi3SN",
        "outputId": "5142b308-537d-4fa7-9d9a-68f3237f9ab3"
      },
      "execution_count": null,
      "outputs": [
        {
          "output_type": "stream",
          "name": "stdout",
          "text": [
            "20世紀中に月の初めが日曜日になるのは 171 回です。\n"
          ]
        }
      ]
    },
    {
      "cell_type": "markdown",
      "source": [
        "**コードの説明:**\n",
        "\n",
        "1.  **`is_leap_year(year)`**: うるう年かどうかを判定する関数\n",
        "2.  **`days_in_month`**: 各月の日数をリストとして保存\n",
        "3.  **`count_sunday_firsts()`**:\n",
        "    *   年、月、曜日を初期化\n",
        "    *   2000年まで繰り返す\n",
        "    *   曜日が日曜日ならカウントアップ\n",
        "    *   月の最終日を判定\n",
        "    *   曜日を更新\n",
        "4.  **`print(...)`**: 結果を表示\n",
        "\n",
        "**まとめ:**\n",
        "\n",
        "このコードを実行すると、20世紀に月の初めが日曜日になる回数が表示されます。\n",
        "Pythonを使うと、ややこしい計算も簡単にできるね！"
      ],
      "metadata": {
        "id": "3RbkMZcqi5LN"
      }
    },
    {
      "cell_type": "markdown",
      "source": [
        "## プロジェクト020　100!ってどんな数？ Pythonで各桁の数字の和を求めてみよう！\n",
        "\n",
        "**問題:**\n",
        "\n",
        "1から100までの整数をすべてかけ合わせた数、つまり100の階乗（100!）は、とーっても大きな数になるんだ。\n",
        "この100!の各桁の数字を全部足すと、いくつになるかな？\n",
        "\n",
        "**例:**\n",
        "\n",
        "10! = 10 × 9 × 8 × 7 × 6 × 5 × 4 × 3 × 2 × 1 = 3,628,800\n",
        "\n",
        "3 + 6 + 2 + 8 + 8 + 0 + 0 = 27\n",
        "つまり、10!の各桁の数字の和は27だよ。\n",
        "\n",
        "**解説:**\n",
        "\n",
        "100!を計算するのは大変だけど、Pythonを使えば簡単！\n",
        "大きな数の各桁の数字を足す方法も一緒に見ていこう。\n",
        "\n",
        "**Python コード例**"
      ],
      "metadata": {
        "id": "i-mzC9A8kOXV"
      }
    },
    {
      "cell_type": "code",
      "source": [
        "import math\n",
        "\n",
        "# 100の階乗を計算\n",
        "factorial_100 = math.factorial(100)\n",
        "\n",
        "# 各桁の数字の和を計算\n",
        "sum_of_digits = 0\n",
        "for digit in str(factorial_100): # 整数を文字列に変換して各桁を取り出す\n",
        "    sum_of_digits += int(digit) # 取り出した各桁を整数に変換して足す\n",
        "\n",
        "# 結果を表示\n",
        "print(f\"100! は {factorial_100} です。\")\n",
        "print(f\"100! の各位の数字の和は {sum_of_digits} です。\")"
      ],
      "metadata": {
        "colab": {
          "base_uri": "https://localhost:8080/"
        },
        "id": "eZGLFtr7kO6F",
        "outputId": "3ba8032a-8055-4987-cbda-09c24d230d0e"
      },
      "execution_count": null,
      "outputs": [
        {
          "output_type": "stream",
          "name": "stdout",
          "text": [
            "100! は 93326215443944152681699238856266700490715968264381621468592963895217599993229915608941463976156518286253697920827223758251185210916864000000000000000000000000 です。\n",
            "100! の各位の数字の和は 648 です。\n"
          ]
        }
      ]
    },
    {
      "cell_type": "markdown",
      "source": [
        "**コードの説明:**\n",
        "\n",
        "1.  **`import math`**: 数学の関数を使うために、`math`モジュールを読み込む\n",
        "2.  **`factorial_100 = math.factorial(100)`**: 100の階乗を計算し、`factorial_100`という変数に保存\n",
        "3.  **`sum_of_digits = 0`**: 各桁の数字の和を保存する変数\n",
        "4.  **`for digit in str(factorial_100):`**: `factorial_100`を文字列に変換し、各桁の数字を`digit`という変数に取り出す\n",
        "5.  **`sum_of_digits += int(digit)`**: `digit`（文字列）を整数に変換し、`sum_of_digits`に足していく\n",
        "6.  **`print(...)`**: 最後に、100!とその各桁の数字の和を表示\n",
        "\n",
        "**まとめ:**\n",
        "\n",
        "このコードを実行すると、100!とその各桁の数字の和が表示されるよ。\n",
        "Pythonを使えば、大きな数の計算もラクラク！"
      ],
      "metadata": {
        "id": "deVKvS64kPU1"
      }
    }
  ]
}